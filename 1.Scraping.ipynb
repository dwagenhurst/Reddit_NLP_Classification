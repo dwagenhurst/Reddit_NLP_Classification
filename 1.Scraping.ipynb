{
 "cells": [
  {
   "cell_type": "markdown",
   "id": "9945bff1-064d-4559-9a79-f46622b3a337",
   "metadata": {},
   "source": [
    "# This file is to collect the data from reddit"
   ]
  },
  {
   "cell_type": "markdown",
   "id": "11da7007-3256-4cbe-b38f-9f4c0583a31b",
   "metadata": {},
   "source": [
    "# Do not run this file again\n",
    "1. it takes 20 minutes\n",
    "2. csv file data will be overwritten"
   ]
  },
  {
   "cell_type": "code",
   "execution_count": 1,
   "id": "4a334445-1f02-4f6c-8dba-fa1cf4d59c8f",
   "metadata": {},
   "outputs": [],
   "source": [
    "# imports\n",
    "import requests\n",
    "import pandas as pd\n",
    "import time"
   ]
  },
  {
   "cell_type": "code",
   "execution_count": 2,
   "id": "4d5c0ccb-bace-4a59-bdb2-411187d59b5c",
   "metadata": {},
   "outputs": [],
   "source": [
    "# subreddits\n",
    "sub1 = 'LifeProTips'\n",
    "sub2 = 'UnethicalLifeProTips'\n",
    "\n",
    "\n",
    "#base url\n",
    "base_url = 'https://api.pushshift.io/reddit/search/'"
   ]
  },
  {
   "cell_type": "code",
   "execution_count": 3,
   "id": "ec007577-9739-4876-aaf9-4cb2c7a79c30",
   "metadata": {},
   "outputs": [
    {
     "data": {
      "text/plain": [
       "200"
      ]
     },
     "execution_count": 3,
     "metadata": {},
     "output_type": "execute_result"
    }
   ],
   "source": [
    "#get the most recent post from sub1 to start csv\n",
    "params1 = {\n",
    "    'subreddit': sub1,\n",
    "    'size': 1,\n",
    "    'q:not': '[removed]'\n",
    "}\n",
    "\n",
    "res1 = requests.get(base_url + 'submission', params = params1)\n",
    "res1.status_code"
   ]
  },
  {
   "cell_type": "code",
   "execution_count": 4,
   "id": "50e2ea79-7d34-47a7-a8c5-744c0acf747b",
   "metadata": {},
   "outputs": [],
   "source": [
    "temp1 = res1.json()\n",
    "posts1 = temp1['data']\n",
    "df1 = pd.DataFrame(posts1)"
   ]
  },
  {
   "cell_type": "code",
   "execution_count": 5,
   "id": "06af4c0c-89ad-4068-8e53-317249001953",
   "metadata": {},
   "outputs": [],
   "source": [
    "df1.to_csv('./data/lpt_data.csv', index=False) # for first run\n",
    "#df1.to_csv('./data/lpt_data.csv', mode='a', header=False, index=False)# add data later"
   ]
  },
  {
   "cell_type": "code",
   "execution_count": null,
   "id": "c1132ea5-0c3a-4b49-8c01-65618b8a980f",
   "metadata": {},
   "outputs": [],
   "source": []
  },
  {
   "cell_type": "code",
   "execution_count": 6,
   "id": "0ae449b3-0e2c-44f9-892c-11b0371600d1",
   "metadata": {},
   "outputs": [
    {
     "data": {
      "text/plain": [
       "200"
      ]
     },
     "execution_count": 6,
     "metadata": {},
     "output_type": "execute_result"
    }
   ],
   "source": [
    "#get the most recent post from sub2 to start csv\n",
    "params2 = {\n",
    "    'subreddit': sub2,\n",
    "    'size': 1,\n",
    "    'q:not': '[removed]'\n",
    "}\n",
    "\n",
    "res2 = requests.get(base_url + 'submission', params = params2)\n",
    "res2.status_code"
   ]
  },
  {
   "cell_type": "code",
   "execution_count": 7,
   "id": "166ba57a-1c0a-4e43-b518-44767981b128",
   "metadata": {},
   "outputs": [],
   "source": [
    "temp2 = res2.json()\n",
    "posts2 = temp2['data']\n",
    "df2 = pd.DataFrame(posts2)"
   ]
  },
  {
   "cell_type": "code",
   "execution_count": 8,
   "id": "6a331872-e6e8-4f98-babc-71c597d755a4",
   "metadata": {},
   "outputs": [],
   "source": [
    "# Create csv with first 500 data points\n",
    "df2.to_csv('./data/ulpt_data.csv', index=False)"
   ]
  },
  {
   "cell_type": "code",
   "execution_count": 9,
   "id": "673a2141-2331-4426-b03a-35ffa30a88f8",
   "metadata": {},
   "outputs": [],
   "source": [
    "# collect and save additional desired posts from LPT\n",
    "count1 = 0\n",
    "\n",
    "while count1 < 4999:\n",
    "    oldest1 = min(df1['created_utc'])\n",
    "    time.sleep(7)\n",
    "    if res1.status_code == 200:\n",
    "        params1 = {\n",
    "            'subreddit': sub1,\n",
    "            'size': 50,\n",
    "            'before': oldest1,\n",
    "            'q:not': '[removed]'\n",
    "        }\n",
    "        \n",
    "        res1 = requests.get(base_url + 'submission', params = params1)\n",
    "        temp1 = res1.json()\n",
    "        posts1 = temp1['data']\n",
    "        df1 = pd.concat([df1,pd.DataFrame(posts1)], ignore_index=True)       \n",
    "        count1 += 50\n",
    "    else:\n",
    "        print(f'failed status code {res1.status_code}')\n",
    "    \n",
    "df1.to_csv('./data/lpt_data.csv', mode='a', header=False, index=False)"
   ]
  },
  {
   "cell_type": "code",
   "execution_count": 10,
   "id": "84985300-d3c7-4c2b-9f9b-cc170769dc35",
   "metadata": {},
   "outputs": [],
   "source": [
    "# collect and save additional desired posts from ULPT\n",
    "count2 = 0\n",
    "\n",
    "while count2 < 4999:\n",
    "    oldest2 = min(df2['created_utc'])\n",
    "    time.sleep(7)\n",
    "    if res2.status_code == 200:\n",
    "        params2 = {\n",
    "            'subreddit': sub2,\n",
    "            'size': 50,\n",
    "            'before': oldest2,\n",
    "            'q:not': '[removed]'\n",
    "        }\n",
    "        \n",
    "        res2 = requests.get(base_url + 'submission', params = params2)\n",
    "        temp2 = res2.json()\n",
    "        posts2 = temp2['data']\n",
    "        df2 = pd.concat([df2,pd.DataFrame(posts2)], ignore_index=True)\n",
    "        count2 += 50\n",
    "\n",
    "    else:\n",
    "        print(f'failed status code {res2.status_code}')        \n",
    "        \n",
    "df2.to_csv('./data/ulpt_data.csv', mode='a', header=False, index=False)"
   ]
  },
  {
   "cell_type": "code",
   "execution_count": 12,
   "id": "7056f0c7-cf40-4692-b183-02303d33d598",
   "metadata": {},
   "outputs": [
    {
     "data": {
      "text/plain": [
       "(4995, 73)"
      ]
     },
     "execution_count": 12,
     "metadata": {},
     "output_type": "execute_result"
    }
   ],
   "source": [
    "df1.shape"
   ]
  },
  {
   "cell_type": "code",
   "execution_count": 13,
   "id": "beecc7f9-728c-42a4-9b66-e77117323b8a",
   "metadata": {},
   "outputs": [
    {
     "data": {
      "text/plain": [
       "(4993, 74)"
      ]
     },
     "execution_count": 13,
     "metadata": {},
     "output_type": "execute_result"
    }
   ],
   "source": [
    "df2.shape"
   ]
  },
  {
   "cell_type": "code",
   "execution_count": null,
   "id": "0050c477-b305-4b57-abe3-83a2bd65994a",
   "metadata": {},
   "outputs": [],
   "source": []
  }
 ],
 "metadata": {
  "kernelspec": {
   "display_name": "Python 3 (ipykernel)",
   "language": "python",
   "name": "python3"
  },
  "language_info": {
   "codemirror_mode": {
    "name": "ipython",
    "version": 3
   },
   "file_extension": ".py",
   "mimetype": "text/x-python",
   "name": "python",
   "nbconvert_exporter": "python",
   "pygments_lexer": "ipython3",
   "version": "3.9.7"
  }
 },
 "nbformat": 4,
 "nbformat_minor": 5
}
