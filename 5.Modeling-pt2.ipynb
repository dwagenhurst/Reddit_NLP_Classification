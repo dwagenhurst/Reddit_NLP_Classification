{
 "cells": [
  {
   "cell_type": "code",
   "execution_count": 1,
   "id": "9971934d-b08c-414c-a13c-d4f70e02b67f",
   "metadata": {},
   "outputs": [],
   "source": [
    "import pandas as pd\n",
    "import numpy as np\n",
    "import matplotlib.pyplot as plt\n",
    "import seaborn as sns\n",
    "\n",
    "from sklearn.metrics import ConfusionMatrixDisplay, classification_report, mean_squared_error, mean_absolute_error\n",
    "from sklearn.linear_model import LogisticRegression\n",
    "from sklearn.model_selection import train_test_split, cross_val_score, GridSearchCV\n",
    "from sklearn.feature_extraction.text import CountVectorizer, ENGLISH_STOP_WORDS\n",
    "from sklearn.ensemble import RandomForestClassifier, ExtraTreesClassifier, VotingClassifier\n",
    "from sklearn.tree import plot_tree, export_text\n",
    "from sklearn.neighbors import KNeighborsClassifier\n",
    "from sklearn.preprocessing import StandardScaler, OneHotEncoder\n",
    "from sklearn.pipeline import Pipeline\n",
    "from sklearn.naive_bayes import GaussianNB\n",
    "from nltk.stem import WordNetLemmatizer\n",
    "from nltk import word_tokenize "
   ]
  },
  {
   "cell_type": "code",
   "execution_count": 2,
   "id": "19681b7b-cd82-4f15-b27d-f9248d7f7d9e",
   "metadata": {},
   "outputs": [],
   "source": [
    "df = pd.read_csv('./data/combinded_condensed.csv')"
   ]
  },
  {
   "cell_type": "code",
   "execution_count": 3,
   "id": "79ab98f9-a787-410a-a655-726f06db4f5a",
   "metadata": {},
   "outputs": [
    {
     "data": {
      "text/html": [
       "<div>\n",
       "<style scoped>\n",
       "    .dataframe tbody tr th:only-of-type {\n",
       "        vertical-align: middle;\n",
       "    }\n",
       "\n",
       "    .dataframe tbody tr th {\n",
       "        vertical-align: top;\n",
       "    }\n",
       "\n",
       "    .dataframe thead th {\n",
       "        text-align: right;\n",
       "    }\n",
       "</style>\n",
       "<table border=\"1\" class=\"dataframe\">\n",
       "  <thead>\n",
       "    <tr style=\"text-align: right;\">\n",
       "      <th></th>\n",
       "      <th>subreddit</th>\n",
       "      <th>permalink</th>\n",
       "      <th>selftext</th>\n",
       "      <th>title</th>\n",
       "    </tr>\n",
       "  </thead>\n",
       "  <tbody>\n",
       "    <tr>\n",
       "      <th>0</th>\n",
       "      <td>LifeProTips</td>\n",
       "      <td>/r/LifeProTips/comments/u9wftb/lpt_dont_drive_...</td>\n",
       "      <td>NaN</td>\n",
       "      <td>LPT: Don’t drive yourself mad trying to “live ...</td>\n",
       "    </tr>\n",
       "    <tr>\n",
       "      <th>1</th>\n",
       "      <td>LifeProTips</td>\n",
       "      <td>/r/LifeProTips/comments/u9wdtc/lpt_request_it/</td>\n",
       "      <td>Whenever you start a new job, let them know yo...</td>\n",
       "      <td>LPT: Request it.</td>\n",
       "    </tr>\n",
       "    <tr>\n",
       "      <th>2</th>\n",
       "      <td>LifeProTips</td>\n",
       "      <td>/r/LifeProTips/comments/u9vhmd/lpt_do_not_list...</td>\n",
       "      <td>Unless you absolutely know what tf you're doin...</td>\n",
       "      <td>LPT: DO NOT list a minor as the POD \"Payable O...</td>\n",
       "    </tr>\n",
       "    <tr>\n",
       "      <th>3</th>\n",
       "      <td>LifeProTips</td>\n",
       "      <td>/r/LifeProTips/comments/u9vgku/lpt_the_perfect...</td>\n",
       "      <td>Don’t you just love cupcakes but hate having t...</td>\n",
       "      <td>LPT: The perfect way to eat a cupcake is to ge...</td>\n",
       "    </tr>\n",
       "    <tr>\n",
       "      <th>4</th>\n",
       "      <td>LifeProTips</td>\n",
       "      <td>/r/LifeProTips/comments/u9vf15/lpt_if_youre_ba...</td>\n",
       "      <td>Thank me later. Rest In Peace bananas. :(</td>\n",
       "      <td>LPT: If you’re baking something and it’s takin...</td>\n",
       "    </tr>\n",
       "  </tbody>\n",
       "</table>\n",
       "</div>"
      ],
      "text/plain": [
       "     subreddit                                          permalink  \\\n",
       "0  LifeProTips  /r/LifeProTips/comments/u9wftb/lpt_dont_drive_...   \n",
       "1  LifeProTips     /r/LifeProTips/comments/u9wdtc/lpt_request_it/   \n",
       "2  LifeProTips  /r/LifeProTips/comments/u9vhmd/lpt_do_not_list...   \n",
       "3  LifeProTips  /r/LifeProTips/comments/u9vgku/lpt_the_perfect...   \n",
       "4  LifeProTips  /r/LifeProTips/comments/u9vf15/lpt_if_youre_ba...   \n",
       "\n",
       "                                            selftext  \\\n",
       "0                                                NaN   \n",
       "1  Whenever you start a new job, let them know yo...   \n",
       "2  Unless you absolutely know what tf you're doin...   \n",
       "3  Don’t you just love cupcakes but hate having t...   \n",
       "4          Thank me later. Rest In Peace bananas. :(   \n",
       "\n",
       "                                               title  \n",
       "0  LPT: Don’t drive yourself mad trying to “live ...  \n",
       "1                                   LPT: Request it.  \n",
       "2  LPT: DO NOT list a minor as the POD \"Payable O...  \n",
       "3  LPT: The perfect way to eat a cupcake is to ge...  \n",
       "4  LPT: If you’re baking something and it’s takin...  "
      ]
     },
     "execution_count": 3,
     "metadata": {},
     "output_type": "execute_result"
    }
   ],
   "source": [
    "df.head()"
   ]
  },
  {
   "cell_type": "code",
   "execution_count": 105,
   "id": "984082dd-4cdd-4775-976d-661e735a8ac7",
   "metadata": {},
   "outputs": [],
   "source": [
    "def StringCleaning(df, column):\n",
    "    lemmatizer = WordNetLemmatizer()\n",
    "    lemmatized_rows = []\n",
    "    word_lengths = []\n",
    "    post_lengths = []\n",
    "    \n",
    "    for i, row in df.iterrows():\n",
    "        word_length = []\n",
    "        lem_words = []\n",
    "        words = word_tokenize(row[column])\n",
    "        post_lengths.append(len(words))\n",
    "        \n",
    "        for word in words:\n",
    "            word = lemmatizer.lemmatize(word)\n",
    "            lem_words.append(word)\n",
    "            word_length.append(len(word))\n",
    "        \n",
    "        lemmatized_row = ' '.join([str(w) for w in lem_words])\n",
    "        lemmatized_rows.append(lemmatized_row)\n",
    "        word_lengths.append(np.array(word_length).mean())\n",
    "        \n",
    "    return lemmatized_rows, word_lengths, post_lengths"
   ]
  },
  {
   "cell_type": "code",
   "execution_count": 5,
   "id": "868e6df1-b966-41a9-9625-234f73b5d24c",
   "metadata": {
    "tags": []
   },
   "outputs": [],
   "source": [
    "df['title'], df['avg_title_word_length'], df['title_word_count'] = StringCleaning(df, 'title')"
   ]
  },
  {
   "cell_type": "code",
   "execution_count": 76,
   "id": "1e08f7e0-8e7a-4956-96ff-1a87f54c90dd",
   "metadata": {},
   "outputs": [],
   "source": [
    "X = df[['title', 'avg_title_word_length', 'title_word_count']]\n",
    "y = df['subreddit']\n",
    "X_train, X_test, y_train, y_test = train_test_split(X, y, stratify=y, random_state=1357)\n",
    "\n",
    "cv2 = CountVectorizer(stop_words=['ulpt', 'lpt'])\n",
    "cv2.fit(X_train['title'])\n",
    "\n",
    "X_train_cv2 = pd.DataFrame(cv2.transform(X_train['title']).A, columns=cv2.get_feature_names_out())\n",
    "X_train_cv2['avg_title_word_length'] = X_train['avg_title_word_length'].values\n",
    "X_train_cv2['title_word_count'] = X_train['title_word_count'].values\n",
    "\n",
    "X_test_cv2 = pd.DataFrame(cv2.transform(X_test['title']).A, columns=cv2.get_feature_names_out())\n",
    "X_test_cv2['avg_title_word_length'] = X_test['avg_title_word_length'].values\n",
    "X_test_cv2['title_word_count'] = X_test['title_word_count'].values"
   ]
  },
  {
   "cell_type": "code",
   "execution_count": 94,
   "id": "01b8aa8b-de82-4ff7-85b8-32981429d36f",
   "metadata": {
    "collapsed": true,
    "jupyter": {
     "outputs_hidden": true
    },
    "tags": []
   },
   "outputs": [
    {
     "name": "stderr",
     "output_type": "stream",
     "text": [
      "C:\\Users\\David\\anaconda3\\lib\\site-packages\\sklearn\\base.py:493: FutureWarning: The feature names should match those that were passed during fit. Starting version 1.2, an error will be raised.\n",
      "Feature names seen at fit time, yet now missing:\n",
      "- 000 15\n",
      "- 000 biden\n",
      "- 000 brandon\n",
      "- 000 by\n",
      "- 000 last\n",
      "- ...\n",
      "\n",
      "  warnings.warn(message, FutureWarning)\n"
     ]
    },
    {
     "ename": "ValueError",
     "evalue": "X has 9847 features, but LogisticRegression is expecting 76026 features as input.",
     "output_type": "error",
     "traceback": [
      "\u001b[1;31m---------------------------------------------------------------------------\u001b[0m",
      "\u001b[1;31mValueError\u001b[0m                                Traceback (most recent call last)",
      "\u001b[1;32m~\\AppData\\Local\\Temp/ipykernel_1120/3053128547.py\u001b[0m in \u001b[0;36m<module>\u001b[1;34m\u001b[0m\n\u001b[0;32m      1\u001b[0m \u001b[0mlr2\u001b[0m \u001b[1;33m=\u001b[0m \u001b[0mLogisticRegression\u001b[0m\u001b[1;33m(\u001b[0m\u001b[0mmax_iter\u001b[0m\u001b[1;33m=\u001b[0m\u001b[1;36m10_000\u001b[0m\u001b[1;33m,\u001b[0m \u001b[0mn_jobs\u001b[0m\u001b[1;33m=\u001b[0m\u001b[1;33m-\u001b[0m\u001b[1;36m1\u001b[0m\u001b[1;33m,\u001b[0m \u001b[0mrandom_state\u001b[0m\u001b[1;33m=\u001b[0m\u001b[1;36m1357\u001b[0m\u001b[1;33m)\u001b[0m\u001b[1;33m\u001b[0m\u001b[1;33m\u001b[0m\u001b[0m\n\u001b[0;32m      2\u001b[0m \u001b[0mlr2\u001b[0m\u001b[1;33m.\u001b[0m\u001b[0mfit\u001b[0m\u001b[1;33m(\u001b[0m\u001b[0mX_train_cv2\u001b[0m\u001b[1;33m,\u001b[0m \u001b[0my_train\u001b[0m\u001b[1;33m)\u001b[0m\u001b[1;33m\u001b[0m\u001b[1;33m\u001b[0m\u001b[0m\n\u001b[1;32m----> 3\u001b[1;33m \u001b[0mprint\u001b[0m\u001b[1;33m(\u001b[0m\u001b[0mlr2\u001b[0m\u001b[1;33m.\u001b[0m\u001b[0mscore\u001b[0m\u001b[1;33m(\u001b[0m\u001b[0mX_train_cv2\u001b[0m\u001b[1;33m,\u001b[0m \u001b[0my_train\u001b[0m\u001b[1;33m)\u001b[0m\u001b[1;33m,\u001b[0m \u001b[0mlr\u001b[0m\u001b[1;33m.\u001b[0m\u001b[0mscore\u001b[0m\u001b[1;33m(\u001b[0m\u001b[0mX_test_cv2\u001b[0m\u001b[1;33m,\u001b[0m \u001b[0my_test\u001b[0m\u001b[1;33m)\u001b[0m\u001b[1;33m)\u001b[0m\u001b[1;33m\u001b[0m\u001b[1;33m\u001b[0m\u001b[0m\n\u001b[0m",
      "\u001b[1;32m~\\anaconda3\\lib\\site-packages\\sklearn\\base.py\u001b[0m in \u001b[0;36mscore\u001b[1;34m(self, X, y, sample_weight)\u001b[0m\n\u001b[0;32m    649\u001b[0m         \u001b[1;32mfrom\u001b[0m \u001b[1;33m.\u001b[0m\u001b[0mmetrics\u001b[0m \u001b[1;32mimport\u001b[0m \u001b[0maccuracy_score\u001b[0m\u001b[1;33m\u001b[0m\u001b[1;33m\u001b[0m\u001b[0m\n\u001b[0;32m    650\u001b[0m \u001b[1;33m\u001b[0m\u001b[0m\n\u001b[1;32m--> 651\u001b[1;33m         \u001b[1;32mreturn\u001b[0m \u001b[0maccuracy_score\u001b[0m\u001b[1;33m(\u001b[0m\u001b[0my\u001b[0m\u001b[1;33m,\u001b[0m \u001b[0mself\u001b[0m\u001b[1;33m.\u001b[0m\u001b[0mpredict\u001b[0m\u001b[1;33m(\u001b[0m\u001b[0mX\u001b[0m\u001b[1;33m)\u001b[0m\u001b[1;33m,\u001b[0m \u001b[0msample_weight\u001b[0m\u001b[1;33m=\u001b[0m\u001b[0msample_weight\u001b[0m\u001b[1;33m)\u001b[0m\u001b[1;33m\u001b[0m\u001b[1;33m\u001b[0m\u001b[0m\n\u001b[0m\u001b[0;32m    652\u001b[0m \u001b[1;33m\u001b[0m\u001b[0m\n\u001b[0;32m    653\u001b[0m     \u001b[1;32mdef\u001b[0m \u001b[0m_more_tags\u001b[0m\u001b[1;33m(\u001b[0m\u001b[0mself\u001b[0m\u001b[1;33m)\u001b[0m\u001b[1;33m:\u001b[0m\u001b[1;33m\u001b[0m\u001b[1;33m\u001b[0m\u001b[0m\n",
      "\u001b[1;32m~\\anaconda3\\lib\\site-packages\\sklearn\\linear_model\\_base.py\u001b[0m in \u001b[0;36mpredict\u001b[1;34m(self, X)\u001b[0m\n\u001b[0;32m    423\u001b[0m             \u001b[0mVector\u001b[0m \u001b[0mcontaining\u001b[0m \u001b[0mthe\u001b[0m \u001b[1;32mclass\u001b[0m \u001b[0mlabels\u001b[0m \u001b[1;32mfor\u001b[0m \u001b[0meach\u001b[0m \u001b[0msample\u001b[0m\u001b[1;33m.\u001b[0m\u001b[1;33m\u001b[0m\u001b[1;33m\u001b[0m\u001b[0m\n\u001b[0;32m    424\u001b[0m         \"\"\"\n\u001b[1;32m--> 425\u001b[1;33m         \u001b[0mscores\u001b[0m \u001b[1;33m=\u001b[0m \u001b[0mself\u001b[0m\u001b[1;33m.\u001b[0m\u001b[0mdecision_function\u001b[0m\u001b[1;33m(\u001b[0m\u001b[0mX\u001b[0m\u001b[1;33m)\u001b[0m\u001b[1;33m\u001b[0m\u001b[1;33m\u001b[0m\u001b[0m\n\u001b[0m\u001b[0;32m    426\u001b[0m         \u001b[1;32mif\u001b[0m \u001b[0mlen\u001b[0m\u001b[1;33m(\u001b[0m\u001b[0mscores\u001b[0m\u001b[1;33m.\u001b[0m\u001b[0mshape\u001b[0m\u001b[1;33m)\u001b[0m \u001b[1;33m==\u001b[0m \u001b[1;36m1\u001b[0m\u001b[1;33m:\u001b[0m\u001b[1;33m\u001b[0m\u001b[1;33m\u001b[0m\u001b[0m\n\u001b[0;32m    427\u001b[0m             \u001b[0mindices\u001b[0m \u001b[1;33m=\u001b[0m \u001b[1;33m(\u001b[0m\u001b[0mscores\u001b[0m \u001b[1;33m>\u001b[0m \u001b[1;36m0\u001b[0m\u001b[1;33m)\u001b[0m\u001b[1;33m.\u001b[0m\u001b[0mastype\u001b[0m\u001b[1;33m(\u001b[0m\u001b[0mint\u001b[0m\u001b[1;33m)\u001b[0m\u001b[1;33m\u001b[0m\u001b[1;33m\u001b[0m\u001b[0m\n",
      "\u001b[1;32m~\\anaconda3\\lib\\site-packages\\sklearn\\linear_model\\_base.py\u001b[0m in \u001b[0;36mdecision_function\u001b[1;34m(self, X)\u001b[0m\n\u001b[0;32m    405\u001b[0m         \u001b[0mcheck_is_fitted\u001b[0m\u001b[1;33m(\u001b[0m\u001b[0mself\u001b[0m\u001b[1;33m)\u001b[0m\u001b[1;33m\u001b[0m\u001b[1;33m\u001b[0m\u001b[0m\n\u001b[0;32m    406\u001b[0m \u001b[1;33m\u001b[0m\u001b[0m\n\u001b[1;32m--> 407\u001b[1;33m         \u001b[0mX\u001b[0m \u001b[1;33m=\u001b[0m \u001b[0mself\u001b[0m\u001b[1;33m.\u001b[0m\u001b[0m_validate_data\u001b[0m\u001b[1;33m(\u001b[0m\u001b[0mX\u001b[0m\u001b[1;33m,\u001b[0m \u001b[0maccept_sparse\u001b[0m\u001b[1;33m=\u001b[0m\u001b[1;34m\"csr\"\u001b[0m\u001b[1;33m,\u001b[0m \u001b[0mreset\u001b[0m\u001b[1;33m=\u001b[0m\u001b[1;32mFalse\u001b[0m\u001b[1;33m)\u001b[0m\u001b[1;33m\u001b[0m\u001b[1;33m\u001b[0m\u001b[0m\n\u001b[0m\u001b[0;32m    408\u001b[0m         \u001b[0mscores\u001b[0m \u001b[1;33m=\u001b[0m \u001b[0msafe_sparse_dot\u001b[0m\u001b[1;33m(\u001b[0m\u001b[0mX\u001b[0m\u001b[1;33m,\u001b[0m \u001b[0mself\u001b[0m\u001b[1;33m.\u001b[0m\u001b[0mcoef_\u001b[0m\u001b[1;33m.\u001b[0m\u001b[0mT\u001b[0m\u001b[1;33m,\u001b[0m \u001b[0mdense_output\u001b[0m\u001b[1;33m=\u001b[0m\u001b[1;32mTrue\u001b[0m\u001b[1;33m)\u001b[0m \u001b[1;33m+\u001b[0m \u001b[0mself\u001b[0m\u001b[1;33m.\u001b[0m\u001b[0mintercept_\u001b[0m\u001b[1;33m\u001b[0m\u001b[1;33m\u001b[0m\u001b[0m\n\u001b[0;32m    409\u001b[0m         \u001b[1;32mreturn\u001b[0m \u001b[0mscores\u001b[0m\u001b[1;33m.\u001b[0m\u001b[0mravel\u001b[0m\u001b[1;33m(\u001b[0m\u001b[1;33m)\u001b[0m \u001b[1;32mif\u001b[0m \u001b[0mscores\u001b[0m\u001b[1;33m.\u001b[0m\u001b[0mshape\u001b[0m\u001b[1;33m[\u001b[0m\u001b[1;36m1\u001b[0m\u001b[1;33m]\u001b[0m \u001b[1;33m==\u001b[0m \u001b[1;36m1\u001b[0m \u001b[1;32melse\u001b[0m \u001b[0mscores\u001b[0m\u001b[1;33m\u001b[0m\u001b[1;33m\u001b[0m\u001b[0m\n",
      "\u001b[1;32m~\\anaconda3\\lib\\site-packages\\sklearn\\base.py\u001b[0m in \u001b[0;36m_validate_data\u001b[1;34m(self, X, y, reset, validate_separately, **check_params)\u001b[0m\n\u001b[0;32m    583\u001b[0m \u001b[1;33m\u001b[0m\u001b[0m\n\u001b[0;32m    584\u001b[0m         \u001b[1;32mif\u001b[0m \u001b[1;32mnot\u001b[0m \u001b[0mno_val_X\u001b[0m \u001b[1;32mand\u001b[0m \u001b[0mcheck_params\u001b[0m\u001b[1;33m.\u001b[0m\u001b[0mget\u001b[0m\u001b[1;33m(\u001b[0m\u001b[1;34m\"ensure_2d\"\u001b[0m\u001b[1;33m,\u001b[0m \u001b[1;32mTrue\u001b[0m\u001b[1;33m)\u001b[0m\u001b[1;33m:\u001b[0m\u001b[1;33m\u001b[0m\u001b[1;33m\u001b[0m\u001b[0m\n\u001b[1;32m--> 585\u001b[1;33m             \u001b[0mself\u001b[0m\u001b[1;33m.\u001b[0m\u001b[0m_check_n_features\u001b[0m\u001b[1;33m(\u001b[0m\u001b[0mX\u001b[0m\u001b[1;33m,\u001b[0m \u001b[0mreset\u001b[0m\u001b[1;33m=\u001b[0m\u001b[0mreset\u001b[0m\u001b[1;33m)\u001b[0m\u001b[1;33m\u001b[0m\u001b[1;33m\u001b[0m\u001b[0m\n\u001b[0m\u001b[0;32m    586\u001b[0m \u001b[1;33m\u001b[0m\u001b[0m\n\u001b[0;32m    587\u001b[0m         \u001b[1;32mreturn\u001b[0m \u001b[0mout\u001b[0m\u001b[1;33m\u001b[0m\u001b[1;33m\u001b[0m\u001b[0m\n",
      "\u001b[1;32m~\\anaconda3\\lib\\site-packages\\sklearn\\base.py\u001b[0m in \u001b[0;36m_check_n_features\u001b[1;34m(self, X, reset)\u001b[0m\n\u001b[0;32m    398\u001b[0m \u001b[1;33m\u001b[0m\u001b[0m\n\u001b[0;32m    399\u001b[0m         \u001b[1;32mif\u001b[0m \u001b[0mn_features\u001b[0m \u001b[1;33m!=\u001b[0m \u001b[0mself\u001b[0m\u001b[1;33m.\u001b[0m\u001b[0mn_features_in_\u001b[0m\u001b[1;33m:\u001b[0m\u001b[1;33m\u001b[0m\u001b[1;33m\u001b[0m\u001b[0m\n\u001b[1;32m--> 400\u001b[1;33m             raise ValueError(\n\u001b[0m\u001b[0;32m    401\u001b[0m                 \u001b[1;34mf\"X has {n_features} features, but {self.__class__.__name__} \"\u001b[0m\u001b[1;33m\u001b[0m\u001b[1;33m\u001b[0m\u001b[0m\n\u001b[0;32m    402\u001b[0m                 \u001b[1;34mf\"is expecting {self.n_features_in_} features as input.\"\u001b[0m\u001b[1;33m\u001b[0m\u001b[1;33m\u001b[0m\u001b[0m\n",
      "\u001b[1;31mValueError\u001b[0m: X has 9847 features, but LogisticRegression is expecting 76026 features as input."
     ]
    }
   ],
   "source": [
    "lr2 = LogisticRegression(max_iter=10_000, n_jobs=-1, random_state=1357)\n",
    "lr2.fit(X_train_cv2, y_train)\n"
   ]
  },
  {
   "cell_type": "code",
   "execution_count": 95,
   "id": "9a7b4806-d4cd-4fa6-b2b3-df11abf93142",
   "metadata": {},
   "outputs": [
    {
     "name": "stdout",
     "output_type": "stream",
     "text": [
      "0.958451752605224 0.8198051948051948\n"
     ]
    }
   ],
   "source": [
    "print(lr2.score(X_train_cv2, y_train), lr2.score(X_test_cv2, y_test))"
   ]
  },
  {
   "cell_type": "code",
   "execution_count": 81,
   "id": "fac80296-fd38-4cea-8daa-3d5dfa386eea",
   "metadata": {},
   "outputs": [
    {
     "data": {
      "image/png": "[encoded data removed]",
      "text/plain": [
       "<Figure size 432x288 with 2 Axes>"
      ]
     },
     "metadata": {
      "needs_background": "light"
     },
     "output_type": "display_data"
    }
   ],
   "source": [
    "ConfusionMatrixDisplay.from_estimator(lr2, X_test_cv2, y_test, cmap='Blues');"
   ]
  },
  {
   "cell_type": "code",
   "execution_count": 73,
   "id": "0877c326-0896-42e2-8b89-91b8155567b2",
   "metadata": {},
   "outputs": [],
   "source": [
    "X = df[['title', 'avg_title_word_length', 'title_word_count']]\n",
    "y = df['subreddit']\n",
    "X_train, X_test, y_train, y_test = train_test_split(X, y, stratify=y, random_state=1357)\n",
    "\n",
    "cv = CountVectorizer(stop_words=['ulpt', 'lpt'], ngram_range=(1,2))\n",
    "cv.fit(X_train['title'])\n",
    "\n",
    "X_train_cv = pd.DataFrame(cv.transform(X_train['title']).A, columns=cv.get_feature_names_out())\n",
    "X_train_cv['avg_title_word_length'] = X_train['avg_title_word_length'].values\n",
    "X_train_cv['title_word_count'] = X_train['title_word_count'].values\n",
    "\n",
    "X_test_cv = pd.DataFrame(cv.transform(X_test['title']).A, columns=cv.get_feature_names_out())\n",
    "X_test_cv['avg_title_word_length'] = X_test['avg_title_word_length'].values\n",
    "X_test_cv['title_word_count'] = X_test['title_word_count'].values"
   ]
  },
  {
   "cell_type": "code",
   "execution_count": 74,
   "id": "0cc6b802-1340-428c-aa9e-92b6248be584",
   "metadata": {},
   "outputs": [
    {
     "name": "stdout",
     "output_type": "stream",
     "text": [
      "0.995263229124374 0.833198051948052\n"
     ]
    }
   ],
   "source": [
    "lr = LogisticRegression(max_iter=10_000, n_jobs=-1, random_state=1357)\n",
    "lr.fit(X_train_cv, y_train)\n",
    "print(lr.score(X_train_cv, y_train), lr.score(X_test_cv, y_test))"
   ]
  },
  {
   "cell_type": "code",
   "execution_count": 75,
   "id": "7699d34a-c7d9-474d-bd3e-748a8895fd0c",
   "metadata": {},
   "outputs": [
    {
     "data": {
      "image/png": "[encoded data removed]",
      "text/plain": [
       "<Figure size 432x288 with 2 Axes>"
      ]
     },
     "metadata": {
      "needs_background": "light"
     },
     "output_type": "display_data"
    }
   ],
   "source": [
    "ConfusionMatrixDisplay.from_estimator(lr,X_test_cv, y_test, cmap='Blues');"
   ]
  },
  {
   "cell_type": "code",
   "execution_count": null,
   "id": "30c5fcb6-7d3d-4fe8-9b13-fe0587ece65f",
   "metadata": {},
   "outputs": [],
   "source": []
  },
  {
   "cell_type": "code",
   "execution_count": 113,
   "id": "3b6dba17-50ff-4178-8f84-e60540b96670",
   "metadata": {},
   "outputs": [],
   "source": [
    "X = df['title']\n",
    "y = df['subreddit']\n",
    "X_train, X_test, y_train, y_test = train_test_split(X, y, stratify=y, random_state=1357)\n",
    "\n",
    "cv3 = CountVectorizer(stop_words=['ulpt', 'lpt'], ngram_range=(1,2))\n",
    "cv3.fit(X_train)\n",
    "\n",
    "X_train_cv3 = pd.DataFrame(cv3.transform(X_train).A, columns=cv3.get_feature_names_out())\n",
    "X_test_cv3 = pd.DataFrame(cv3.transform(X_test).A, columns=cv3.get_feature_names_out())\n"
   ]
  },
  {
   "cell_type": "code",
   "execution_count": 101,
   "id": "ce736106-c215-4d6a-9029-d2357438b0af",
   "metadata": {},
   "outputs": [
    {
     "name": "stdout",
     "output_type": "stream",
     "text": [
      "0.9958045743673027 0.833198051948052\n"
     ]
    }
   ],
   "source": [
    "lr3 = LogisticRegression(max_iter=10_000, n_jobs=-1, random_state=1357)\n",
    "lr3.fit(X_train_cv3, y_train)\n",
    "print(lr3.score(X_train_cv3, y_train), lr3.score(X_test_cv3, y_test))"
   ]
  },
  {
   "cell_type": "code",
   "execution_count": 103,
   "id": "2d525ab0-f347-44a9-9525-544521c3a6f8",
   "metadata": {},
   "outputs": [
    {
     "data": {
      "image/png": "[encoded data removed]",
      "text/plain": [
       "<Figure size 432x288 with 2 Axes>"
      ]
     },
     "metadata": {
      "needs_background": "light"
     },
     "output_type": "display_data"
    }
   ],
   "source": [
    "# interestingly we achieve the same results on our test set but posts are shifted around\n",
    "ConfusionMatrixDisplay.from_estimator(lr3,X_test_cv3, y_test, cmap='Blues');"
   ]
  },
  {
   "cell_type": "code",
   "execution_count": null,
   "id": "e4b471ec-e78d-46e9-9fe4-5cc7691d8754",
   "metadata": {},
   "outputs": [],
   "source": []
  },
  {
   "cell_type": "code",
   "execution_count": 123,
   "id": "d8750869-873e-4b47-b0a1-841efc03d453",
   "metadata": {},
   "outputs": [
    {
     "name": "stderr",
     "output_type": "stream",
     "text": [
      "C:\\Users\\David\\anaconda3\\lib\\site-packages\\sklearn\\base.py:450: UserWarning: X does not have valid feature names, but LogisticRegression was fitted with feature names\n",
      "  warnings.warn(\n"
     ]
    },
    {
     "data": {
      "text/plain": [
       "array([[0.58164064, 0.41835936]])"
      ]
     },
     "execution_count": 123,
     "metadata": {},
     "output_type": "execute_result"
    }
   ],
   "source": [
    "# actual subreddit - ULPT\n",
    "sentence = \"When you borrow your friends phone check for money in the back. Some people keep extracash there for emergencies. They won't realize it's gone until there is an emergency and likely won't realize you took it.\"\n",
    "words = word_tokenize(sentence)\n",
    "lem_words = []\n",
    "lemmatizer = WordNetLemmatizer()\n",
    "\n",
    "for word in words:\n",
    "    word = lemmatizer.lemmatize(word)\n",
    "    lem_words.append(word)\n",
    "    \n",
    "lemmatized_row = ' '.join([str(w) for w in lem_words])\n",
    "temp_dict = {'title': lemmatized_row}\n",
    "cv3.transform(temp_dict)\n",
    "lr3.predict_proba(cv3.transform(temp_dict))"
   ]
  },
  {
   "cell_type": "code",
   "execution_count": 124,
   "id": "e16515f8-4e38-431e-ad1c-c473db6674ec",
   "metadata": {},
   "outputs": [
    {
     "data": {
      "text/plain": [
       "array([[0.58164064, 0.41835936]])"
      ]
     },
     "execution_count": 124,
     "metadata": {},
     "output_type": "execute_result"
    }
   ],
   "source": [
    "# actual subreddit - LPT\n",
    "sentence = \"Keep some money in the back of your phone. We carry our phone everywhere so put some ($20-50) in the back case and forget. This money will come in hand if you don't have your wallet and need some emergency cash\"\n",
    "words = word_tokenize(sentence)\n",
    "lem_words = []\n",
    "lemmatizer = WordNetLemmatizer()\n",
    "\n",
    "for word in words:\n",
    "    word = lemmatizer.lemmatize(word)\n",
    "    lem_words.append(word)\n",
    "    \n",
    "lemmatized_row = ' '.join([str(w) for w in lem_words])\n",
    "temp_dict = {'title': lemmatized_row}\n",
    "cv3.transform(temp_dict)\n",
    "lr3.predict_proba(cv3.transform(temp_dict))"
   ]
  },
  {
   "cell_type": "code",
   "execution_count": null,
   "id": "7f2a39d2-8f74-4c4b-8445-b1f46e35e44f",
   "metadata": {},
   "outputs": [],
   "source": []
  }
 ],
 "metadata": {
  "kernelspec": {
   "display_name": "Python 3 (ipykernel)",
   "language": "python",
   "name": "python3"
  },
  "language_info": {
   "codemirror_mode": {
    "name": "ipython",
    "version": 3
   },
   "file_extension": ".py",
   "mimetype": "text/x-python",
   "name": "python",
   "nbconvert_exporter": "python",
   "pygments_lexer": "ipython3",
   "version": "3.9.7"
  }
 },
 "nbformat": 4,
 "nbformat_minor": 5
}
