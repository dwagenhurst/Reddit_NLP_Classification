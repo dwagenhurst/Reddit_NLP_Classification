{
 "cells": [
  {
   "cell_type": "markdown",
   "id": "8bc6db1c-b42e-4018-9ad1-47095865a4f8",
   "metadata": {
    "tags": []
   },
   "source": [
    "## Imports"
   ]
  },
  {
   "cell_type": "code",
   "execution_count": 2,
   "id": "ade8e930-e2c2-43d4-a8d7-567fa42dfed7",
   "metadata": {},
   "outputs": [],
   "source": [
    "import pandas as pd\n",
    "import numpy as np\n",
    "import matplotlib.pyplot as plt\n",
    "import seaborn as sns\n",
    "\n",
    "from sklearn.metrics import ConfusionMatrixDisplay, classification_report, mean_squared_error, mean_absolute_error\n",
    "from sklearn.linear_model import LogisticRegression\n",
    "from sklearn.model_selection import train_test_split, cross_val_score, GridSearchCV\n",
    "from sklearn.feature_extraction.text import CountVectorizer, ENGLISH_STOP_WORDS\n",
    "from sklearn.ensemble import RandomForestClassifier, ExtraTreesClassifier, VotingClassifier\n",
    "from sklearn.tree import plot_tree, export_text\n",
    "from sklearn.neighbors import KNeighborsClassifier\n",
    "from sklearn.preprocessing import StandardScaler, OneHotEncoder\n",
    "from sklearn.pipeline import Pipeline\n",
    "from sklearn.naive_bayes import GaussianNB\n",
    "from sklearn.compose import make_column_transformer\n",
    "from sklearn.compose import make_column_selector\n",
    "from nltk.stem import WordNetLemmatizer"
   ]
  },
  {
   "cell_type": "markdown",
   "id": "ae767a52-e54f-4c74-9a7b-1688e15e35a4",
   "metadata": {
    "tags": []
   },
   "source": [
    "## Read in saved data and prepare X, y, train_test_split\n",
    "\n",
    "- stratified on y though split is almost even"
   ]
  },
  {
   "cell_type": "code",
   "execution_count": 5,
   "id": "fec0221c-cc89-4e92-9e22-4bef82fda1b3",
   "metadata": {},
   "outputs": [
    {
     "data": {
      "text/html": [
       "<div>\n",
       "<style scoped>\n",
       "    .dataframe tbody tr th:only-of-type {\n",
       "        vertical-align: middle;\n",
       "    }\n",
       "\n",
       "    .dataframe tbody tr th {\n",
       "        vertical-align: top;\n",
       "    }\n",
       "\n",
       "    .dataframe thead th {\n",
       "        text-align: right;\n",
       "    }\n",
       "</style>\n",
       "<table border=\"1\" class=\"dataframe\">\n",
       "  <thead>\n",
       "    <tr style=\"text-align: right;\">\n",
       "      <th></th>\n",
       "      <th>subreddit</th>\n",
       "      <th>permalink</th>\n",
       "      <th>selftext</th>\n",
       "      <th>title</th>\n",
       "    </tr>\n",
       "  </thead>\n",
       "  <tbody>\n",
       "    <tr>\n",
       "      <th>0</th>\n",
       "      <td>LifeProTips</td>\n",
       "      <td>/r/LifeProTips/comments/u9wftb/lpt_dont_drive_...</td>\n",
       "      <td>NaN</td>\n",
       "      <td>LPT: Don’t drive yourself mad trying to “live ...</td>\n",
       "    </tr>\n",
       "    <tr>\n",
       "      <th>1</th>\n",
       "      <td>LifeProTips</td>\n",
       "      <td>/r/LifeProTips/comments/u9wdtc/lpt_request_it/</td>\n",
       "      <td>Whenever you start a new job, let them know yo...</td>\n",
       "      <td>LPT: Request it.</td>\n",
       "    </tr>\n",
       "    <tr>\n",
       "      <th>2</th>\n",
       "      <td>LifeProTips</td>\n",
       "      <td>/r/LifeProTips/comments/u9vhmd/lpt_do_not_list...</td>\n",
       "      <td>Unless you absolutely know what tf you're doin...</td>\n",
       "      <td>LPT: DO NOT list a minor as the POD \"Payable O...</td>\n",
       "    </tr>\n",
       "    <tr>\n",
       "      <th>3</th>\n",
       "      <td>LifeProTips</td>\n",
       "      <td>/r/LifeProTips/comments/u9vgku/lpt_the_perfect...</td>\n",
       "      <td>Don’t you just love cupcakes but hate having t...</td>\n",
       "      <td>LPT: The perfect way to eat a cupcake is to ge...</td>\n",
       "    </tr>\n",
       "    <tr>\n",
       "      <th>4</th>\n",
       "      <td>LifeProTips</td>\n",
       "      <td>/r/LifeProTips/comments/u9vf15/lpt_if_youre_ba...</td>\n",
       "      <td>Thank me later. Rest In Peace bananas. :(</td>\n",
       "      <td>LPT: If you’re baking something and it’s takin...</td>\n",
       "    </tr>\n",
       "  </tbody>\n",
       "</table>\n",
       "</div>"
      ],
      "text/plain": [
       "     subreddit                                          permalink  \\\n",
       "0  LifeProTips  /r/LifeProTips/comments/u9wftb/lpt_dont_drive_...   \n",
       "1  LifeProTips     /r/LifeProTips/comments/u9wdtc/lpt_request_it/   \n",
       "2  LifeProTips  /r/LifeProTips/comments/u9vhmd/lpt_do_not_list...   \n",
       "3  LifeProTips  /r/LifeProTips/comments/u9vgku/lpt_the_perfect...   \n",
       "4  LifeProTips  /r/LifeProTips/comments/u9vf15/lpt_if_youre_ba...   \n",
       "\n",
       "                                            selftext  \\\n",
       "0                                                NaN   \n",
       "1  Whenever you start a new job, let them know yo...   \n",
       "2  Unless you absolutely know what tf you're doin...   \n",
       "3  Don’t you just love cupcakes but hate having t...   \n",
       "4          Thank me later. Rest In Peace bananas. :(   \n",
       "\n",
       "                                               title  \n",
       "0  LPT: Don’t drive yourself mad trying to “live ...  \n",
       "1                                   LPT: Request it.  \n",
       "2  LPT: DO NOT list a minor as the POD \"Payable O...  \n",
       "3  LPT: The perfect way to eat a cupcake is to ge...  \n",
       "4  LPT: If you’re baking something and it’s takin...  "
      ]
     },
     "execution_count": 5,
     "metadata": {},
     "output_type": "execute_result"
    }
   ],
   "source": [
    "df = pd.read_csv('./data/combinded_condensed.csv')\n",
    "\n",
    "df.head()"
   ]
  },
  {
   "cell_type": "code",
   "execution_count": 6,
   "id": "cc97cef6-c1f6-4318-a94a-89abf9488308",
   "metadata": {},
   "outputs": [],
   "source": [
    "# starting just using the title column for x\n",
    "X = df['title']\n",
    "y = df['subreddit']\n",
    "X_train, X_test, y_train, y_test = train_test_split(X, y, stratify=y, random_state=1357)\n",
    "\n",
    "cv = CountVectorizer()\n",
    "\n",
    "cv.fit(X_train)\n",
    "\n",
    "X_train_cv = cv.transform(X_train)\n",
    "X_test_cv = cv.transform(X_test)"
   ]
  },
  {
   "cell_type": "markdown",
   "id": "651459b6-efb2-4aad-bb9e-bc1c9ef670b9",
   "metadata": {},
   "source": [
    "## Establish Baseline\n",
    "\n",
    "- not 50/50 due to some duplicate posts being removed\n",
    "- just guessing majority class would give us accuracy of 50.3%"
   ]
  },
  {
   "cell_type": "code",
   "execution_count": null,
   "id": "dd11fa02-21d4-4b69-a04a-115e89a54e02",
   "metadata": {},
   "outputs": [
    {
     "data": {
      "text/plain": [
       "LifeProTips             0.503451\n",
       "UnethicalLifeProTips    0.496549\n",
       "Name: subreddit, dtype: float64"
      ]
     },
     "execution_count": 6,
     "metadata": {},
     "output_type": "execute_result"
    }
   ],
   "source": [
    "y_train.value_counts(normalize=True)"
   ]
  },
  {
   "cell_type": "code",
   "execution_count": 7,
   "id": "4c6c5807-9188-4a8a-b7dd-d3fe6612a347",
   "metadata": {},
   "outputs": [
    {
     "data": {
      "text/plain": [
       "LifeProTips             0.503653\n",
       "UnethicalLifeProTips    0.496347\n",
       "Name: subreddit, dtype: float64"
      ]
     },
     "execution_count": 7,
     "metadata": {},
     "output_type": "execute_result"
    }
   ],
   "source": [
    "y_test.value_counts(normalize=True)"
   ]
  },
  {
   "cell_type": "markdown",
   "id": "f57d21bf-b16b-4198-b188-8acc9a48616f",
   "metadata": {},
   "source": [
    "## First model\n",
    "\n",
    "- with a simple logistic regression accuracy of 99.4% is achieved. only failing on 13 posts\n",
    "- included some words that made modeling almost trivial\n",
    "    - both subreddits require that lpt and ulpt be in the title\n",
    "    - they are the 4th and 5th mose common words\n",
    "  "
   ]
  },
  {
   "cell_type": "code",
   "execution_count": 8,
   "id": "c3843134-2ff2-4dba-a754-c58024b4312f",
   "metadata": {
    "tags": []
   },
   "outputs": [
    {
     "data": {
      "text/plain": [
       "0.994724025974026"
      ]
     },
     "execution_count": 8,
     "metadata": {},
     "output_type": "execute_result"
    }
   ],
   "source": [
    "lr = LogisticRegression(max_iter=10_000, n_jobs=-1)\n",
    "lr.fit(X_train_cv, y_train)\n",
    "lr.score(X_test_cv, y_test)"
   ]
  },
  {
   "cell_type": "code",
   "execution_count": 9,
   "id": "a7ec311f-3fbf-4bb1-a06d-37355550fbcc",
   "metadata": {},
   "outputs": [
    {
     "data": {
      "image/png": "[encoded data removed]",
      "text/plain": [
       "<Figure size 432x288 with 2 Axes>"
      ]
     },
     "metadata": {
      "needs_background": "light"
     },
     "output_type": "display_data"
    }
   ],
   "source": [
    "ConfusionMatrixDisplay.from_estimator(lr,X_test_cv, y_test, cmap='Blues');"
   ]
  },
  {
   "cell_type": "code",
   "execution_count": 10,
   "id": "3de9dfb8-ae04-4b2c-a120-72fb40115c6a",
   "metadata": {},
   "outputs": [],
   "source": [
    "preds = lr.predict(X_test_cv)"
   ]
  },
  {
   "cell_type": "code",
   "execution_count": 11,
   "id": "054e449e-6414-4bb2-8fbf-c59fdf5efa94",
   "metadata": {},
   "outputs": [
    {
     "name": "stdout",
     "output_type": "stream",
     "text": [
      "                      precision    recall  f1-score   support\n",
      "\n",
      "         LifeProTips    0.99436   0.99517   0.99476      1241\n",
      "UnethicalLifeProTips    0.99509   0.99428   0.99468      1223\n",
      "\n",
      "            accuracy                        0.99472      2464\n",
      "           macro avg    0.99473   0.99472   0.99472      2464\n",
      "        weighted avg    0.99472   0.99472   0.99472      2464\n",
      "\n"
     ]
    }
   ],
   "source": [
    "print(classification_report(y_test, preds, digits=5))"
   ]
  },
  {
   "cell_type": "code",
   "execution_count": 104,
   "id": "4caa60e2-83c9-42e6-9b85-135e57892162",
   "metadata": {},
   "outputs": [
    {
     "data": {
      "text/plain": [
       "to      5266\n",
       "you     4706\n",
       "the     3947\n",
       "lpt     3689\n",
       "ulpt    3557\n",
       "dtype: int64"
      ]
     },
     "execution_count": 104,
     "metadata": {},
     "output_type": "execute_result"
    }
   ],
   "source": [
    "pd.DataFrame(X_train_cv.A, columns=cv.get_feature_names_out()).sum().sort_values(ascending=False).head(5)"
   ]
  },
  {
   "cell_type": "code",
   "execution_count": 11,
   "id": "df1733f6-dd4b-4bf8-aea8-f39608f6ff3d",
   "metadata": {},
   "outputs": [],
   "source": [
    "# instanciate dataframe to save parameters of lr gridsearches and their accuracy\n",
    "results = pd.DataFrame()"
   ]
  },
  {
   "cell_type": "markdown",
   "id": "fa9a4524-3a96-44c0-b73a-d626fe83ea4c",
   "metadata": {},
   "source": [
    "## LogisticRegression\n",
    "\n",
    "- starting to save parameters and accuracy of gridsearches into dataframe then save to 'results.csv'\n",
    "- best was accuracy of .832792 accuracy\n",
    "    - without 'english' stopwords\n",
    "    - (1,2) ngram range\n",
    "    - strip accents made no difference\n",
    "    - min_df favored lowest provided value every time 0"
   ]
  },
  {
   "cell_type": "code",
   "execution_count": 9,
   "id": "8573b45f-780f-4b74-aca3-1b9d0c2072e2",
   "metadata": {},
   "outputs": [],
   "source": [
    "stops = ['ulpt', 'lpt']\n",
    "my_stop_words = ENGLISH_STOP_WORDS.union(stops)"
   ]
  },
  {
   "cell_type": "code",
   "execution_count": 44,
   "id": "9662ccb8-4782-4553-83b1-748acb95c58d",
   "metadata": {},
   "outputs": [],
   "source": [
    "pipe = Pipeline([\n",
    "    ('cv', CountVectorizer()),\n",
    "    ('lr', LogisticRegression(max_iter=10_000, n_jobs=-1, random_state=1357))\n",
    "])"
   ]
  },
  {
   "cell_type": "code",
   "execution_count": 45,
   "id": "7f698436-4ef0-47de-8d28-bb81f4e88e5a",
   "metadata": {},
   "outputs": [
    {
     "data": {
      "text/plain": [
       "GridSearchCV(estimator=Pipeline(steps=[('cv', CountVectorizer()),\n",
       "                                       ('lr',\n",
       "                                        LogisticRegression(max_iter=10000,\n",
       "                                                           n_jobs=-1,\n",
       "                                                           random_state=1357))]),\n",
       "             n_jobs=-1,\n",
       "             param_grid={'cv__min_df': [1e-06, 1e-05, 0.0001, 0.001, 0.01, 0.1],\n",
       "                         'cv__ngram_range': [(1, 2), (1, 3)],\n",
       "                         'cv__stop_words': [['ulpt', 'lpt']],\n",
       "                         'cv__strip_accents': ['ascii', 'unicode']})"
      ]
     },
     "execution_count": 45,
     "metadata": {},
     "output_type": "execute_result"
    }
   ],
   "source": [
    "grid = {\n",
    "    \"cv__min_df\": [.000001,.00001, .0001, .001, .01, .1],\n",
    "    \"cv__stop_words\": [stops],\n",
    "    'cv__ngram_range': [(1,2), (1,3)],\n",
    "    'cv__strip_accents': ['ascii','unicode']\n",
    "}\n",
    "gs = GridSearchCV(pipe, param_grid=grid, n_jobs=-1)\n",
    "gs.fit(X_train, y_train)"
   ]
  },
  {
   "cell_type": "code",
   "execution_count": 46,
   "id": "0a351aa6-e13e-41bd-9b39-cf5d3c227024",
   "metadata": {},
   "outputs": [
    {
     "data": {
      "image/png": "[encoded data removed]",
      "text/plain": [
       "<Figure size 432x288 with 2 Axes>"
      ]
     },
     "metadata": {
      "needs_background": "light"
     },
     "output_type": "display_data"
    }
   ],
   "source": [
    "ConfusionMatrixDisplay.from_estimator(gs, X_test, y_test, cmap='Blues');"
   ]
  },
  {
   "cell_type": "markdown",
   "id": "ab845ffb-a323-4e09-8537-e6f1d2a8efc2",
   "metadata": {},
   "source": [
    "**Below is to save the:**\n",
    "\n",
    "    1. accuracy score\n",
    "    2. parameters searched across\n",
    "    3. parameters that contributed to the highest accuracy score\n",
    "    \n",
    "*each row in the results data frame is one completed grid search*"
   ]
  },
  {
   "cell_type": "code",
   "execution_count": 220,
   "id": "418eafc2-6241-401e-8512-a6c029440b58",
   "metadata": {},
   "outputs": [],
   "source": [
    "best = gs.best_params_\n",
    "best['accuracy'] = gs.best_estimator_.score(X_test, y_test)\n",
    "tested_params = {key.replace('__','_'):gs.param_grid[key] for key in gs.param_grid}\n",
    "best.update(tested_params)\n",
    "best.update(pipe.named_steps)\n",
    "best = {key:[best[key]] for key in best}"
   ]
  },
  {
   "cell_type": "code",
   "execution_count": 221,
   "id": "98c43c92-1d40-4d94-bf45-00b3f7df1f5f",
   "metadata": {},
   "outputs": [],
   "source": [
    "results = pd.concat([pd.DataFrame(best), results], axis=0, ignore_index=True)"
   ]
  },
  {
   "cell_type": "code",
   "execution_count": 222,
   "id": "3163c4ee-dfa1-4c67-a7fc-2172dc297af6",
   "metadata": {},
   "outputs": [
    {
     "data": {
      "text/html": [
       "<div>\n",
       "<style scoped>\n",
       "    .dataframe tbody tr th:only-of-type {\n",
       "        vertical-align: middle;\n",
       "    }\n",
       "\n",
       "    .dataframe tbody tr th {\n",
       "        vertical-align: top;\n",
       "    }\n",
       "\n",
       "    .dataframe thead th {\n",
       "        text-align: right;\n",
       "    }\n",
       "</style>\n",
       "<table border=\"1\" class=\"dataframe\">\n",
       "  <thead>\n",
       "    <tr style=\"text-align: right;\">\n",
       "      <th></th>\n",
       "      <th>cv__min_df</th>\n",
       "      <th>cv__ngram_range</th>\n",
       "      <th>cv__stop_words</th>\n",
       "      <th>cv__strip_accents</th>\n",
       "      <th>accuracy</th>\n",
       "      <th>cv_min_df</th>\n",
       "      <th>cv_stop_words</th>\n",
       "      <th>cv_ngram_range</th>\n",
       "      <th>cv_strip_accents</th>\n",
       "      <th>cv</th>\n",
       "      <th>lr</th>\n",
       "      <th>knn</th>\n",
       "    </tr>\n",
       "  </thead>\n",
       "  <tbody>\n",
       "    <tr>\n",
       "      <th>0</th>\n",
       "      <td>0.000001</td>\n",
       "      <td>(1, 2)</td>\n",
       "      <td>[ulpt, lpt]</td>\n",
       "      <td>unicode</td>\n",
       "      <td>0.832792</td>\n",
       "      <td>[1e-06, 1e-05, 0.0001, 0.001, 0.01, 0.1]</td>\n",
       "      <td>[[ulpt, lpt]]</td>\n",
       "      <td>[(1, 2), (1, 3)]</td>\n",
       "      <td>[ascii, unicode]</td>\n",
       "      <td>CountVectorizer()</td>\n",
       "      <td>LogisticRegression(max_iter=10000, n_jobs=-1, ...</td>\n",
       "      <td>NaN</td>\n",
       "    </tr>\n",
       "    <tr>\n",
       "      <th>1</th>\n",
       "      <td>100.000000</td>\n",
       "      <td>(1, 3)</td>\n",
       "      <td>[ulpt, lpt]</td>\n",
       "      <td>unicode</td>\n",
       "      <td>0.755276</td>\n",
       "      <td>[0, 5, 10, 100]</td>\n",
       "      <td>[[ulpt, lpt], (bill, becoming, each, i, de, so...</td>\n",
       "      <td>[(1, 2), (1, 3)]</td>\n",
       "      <td>[ascii, unicode]</td>\n",
       "      <td>CountVectorizer()</td>\n",
       "      <td>NaN</td>\n",
       "      <td>KNeighborsClassifier()</td>\n",
       "    </tr>\n",
       "    <tr>\n",
       "      <th>2</th>\n",
       "      <td>0.000000</td>\n",
       "      <td>(1, 2)</td>\n",
       "      <td>[ulpt, lpt]</td>\n",
       "      <td>unicode</td>\n",
       "      <td>0.832792</td>\n",
       "      <td>[0, 1]</td>\n",
       "      <td>[[ulpt, lpt]]</td>\n",
       "      <td>[(1, 2), (1, 3)]</td>\n",
       "      <td>[ascii, unicode]</td>\n",
       "      <td>CountVectorizer()</td>\n",
       "      <td>LogisticRegression(max_iter=10000, n_jobs=-1, ...</td>\n",
       "      <td>NaN</td>\n",
       "    </tr>\n",
       "    <tr>\n",
       "      <th>3</th>\n",
       "      <td>1.000000</td>\n",
       "      <td>(1, 2)</td>\n",
       "      <td>[ulpt, lpt]</td>\n",
       "      <td>unicode</td>\n",
       "      <td>0.832792</td>\n",
       "      <td>[1, 5, 10]</td>\n",
       "      <td>[[ulpt, lpt]]</td>\n",
       "      <td>[(1, 2), (1, 3)]</td>\n",
       "      <td>[ascii, unicode]</td>\n",
       "      <td>CountVectorizer()</td>\n",
       "      <td>LogisticRegression(max_iter=10000, n_jobs=-1, ...</td>\n",
       "      <td>NaN</td>\n",
       "    </tr>\n",
       "    <tr>\n",
       "      <th>4</th>\n",
       "      <td>1.000000</td>\n",
       "      <td>(1, 2)</td>\n",
       "      <td>[ulpt, lpt]</td>\n",
       "      <td>NaN</td>\n",
       "      <td>0.832792</td>\n",
       "      <td>[1, 5, 10]</td>\n",
       "      <td>[[ulpt, lpt], (bill, becoming, each, i, de, so...</td>\n",
       "      <td>[(1, 2), (1, 3)]</td>\n",
       "      <td>NaN</td>\n",
       "      <td>CountVectorizer()</td>\n",
       "      <td>LogisticRegression(max_iter=10000, n_jobs=-1, ...</td>\n",
       "      <td>NaN</td>\n",
       "    </tr>\n",
       "    <tr>\n",
       "      <th>5</th>\n",
       "      <td>1.000000</td>\n",
       "      <td>(1, 3)</td>\n",
       "      <td>[ulpt, lpt]</td>\n",
       "      <td>NaN</td>\n",
       "      <td>0.831981</td>\n",
       "      <td>[1, 5, 10]</td>\n",
       "      <td>[[ulpt, lpt]]</td>\n",
       "      <td>[(1, 1), (2, 2), (1, 3)]</td>\n",
       "      <td>NaN</td>\n",
       "      <td>CountVectorizer()</td>\n",
       "      <td>LogisticRegression(max_iter=10000, n_jobs=-1, ...</td>\n",
       "      <td>NaN</td>\n",
       "    </tr>\n",
       "    <tr>\n",
       "      <th>6</th>\n",
       "      <td>10.000000</td>\n",
       "      <td>(1, 2)</td>\n",
       "      <td>english</td>\n",
       "      <td>NaN</td>\n",
       "      <td>0.993506</td>\n",
       "      <td>[1, 5, 10]</td>\n",
       "      <td>[[ulpt, lpt], english]</td>\n",
       "      <td>[(1, 2), (3, 3), (2, 3)]</td>\n",
       "      <td>NaN</td>\n",
       "      <td>CountVectorizer()</td>\n",
       "      <td>LogisticRegression(max_iter=10000, n_jobs=-1, ...</td>\n",
       "      <td>NaN</td>\n",
       "    </tr>\n",
       "    <tr>\n",
       "      <th>7</th>\n",
       "      <td>1.000000</td>\n",
       "      <td>(1, 2)</td>\n",
       "      <td>[ulpt, lpt]</td>\n",
       "      <td>NaN</td>\n",
       "      <td>0.832792</td>\n",
       "      <td>[1, 5, 10]</td>\n",
       "      <td>[[ulpt, lpt]]</td>\n",
       "      <td>[(1, 2), (3, 3), (2, 3)]</td>\n",
       "      <td>NaN</td>\n",
       "      <td>CountVectorizer()</td>\n",
       "      <td>LogisticRegression(max_iter=10000, n_jobs=-1, ...</td>\n",
       "      <td>NaN</td>\n",
       "    </tr>\n",
       "  </tbody>\n",
       "</table>\n",
       "</div>"
      ],
      "text/plain": [
       "   cv__min_df cv__ngram_range cv__stop_words cv__strip_accents  accuracy  \\\n",
       "0    0.000001          (1, 2)    [ulpt, lpt]           unicode  0.832792   \n",
       "1  100.000000          (1, 3)    [ulpt, lpt]           unicode  0.755276   \n",
       "2    0.000000          (1, 2)    [ulpt, lpt]           unicode  0.832792   \n",
       "3    1.000000          (1, 2)    [ulpt, lpt]           unicode  0.832792   \n",
       "4    1.000000          (1, 2)    [ulpt, lpt]               NaN  0.832792   \n",
       "5    1.000000          (1, 3)    [ulpt, lpt]               NaN  0.831981   \n",
       "6   10.000000          (1, 2)        english               NaN  0.993506   \n",
       "7    1.000000          (1, 2)    [ulpt, lpt]               NaN  0.832792   \n",
       "\n",
       "                                  cv_min_df  \\\n",
       "0  [1e-06, 1e-05, 0.0001, 0.001, 0.01, 0.1]   \n",
       "1                           [0, 5, 10, 100]   \n",
       "2                                    [0, 1]   \n",
       "3                                [1, 5, 10]   \n",
       "4                                [1, 5, 10]   \n",
       "5                                [1, 5, 10]   \n",
       "6                                [1, 5, 10]   \n",
       "7                                [1, 5, 10]   \n",
       "\n",
       "                                       cv_stop_words  \\\n",
       "0                                      [[ulpt, lpt]]   \n",
       "1  [[ulpt, lpt], (bill, becoming, each, i, de, so...   \n",
       "2                                      [[ulpt, lpt]]   \n",
       "3                                      [[ulpt, lpt]]   \n",
       "4  [[ulpt, lpt], (bill, becoming, each, i, de, so...   \n",
       "5                                      [[ulpt, lpt]]   \n",
       "6                             [[ulpt, lpt], english]   \n",
       "7                                      [[ulpt, lpt]]   \n",
       "\n",
       "             cv_ngram_range  cv_strip_accents                 cv  \\\n",
       "0          [(1, 2), (1, 3)]  [ascii, unicode]  CountVectorizer()   \n",
       "1          [(1, 2), (1, 3)]  [ascii, unicode]  CountVectorizer()   \n",
       "2          [(1, 2), (1, 3)]  [ascii, unicode]  CountVectorizer()   \n",
       "3          [(1, 2), (1, 3)]  [ascii, unicode]  CountVectorizer()   \n",
       "4          [(1, 2), (1, 3)]               NaN  CountVectorizer()   \n",
       "5  [(1, 1), (2, 2), (1, 3)]               NaN  CountVectorizer()   \n",
       "6  [(1, 2), (3, 3), (2, 3)]               NaN  CountVectorizer()   \n",
       "7  [(1, 2), (3, 3), (2, 3)]               NaN  CountVectorizer()   \n",
       "\n",
       "                                                  lr                     knn  \n",
       "0  LogisticRegression(max_iter=10000, n_jobs=-1, ...                     NaN  \n",
       "1                                                NaN  KNeighborsClassifier()  \n",
       "2  LogisticRegression(max_iter=10000, n_jobs=-1, ...                     NaN  \n",
       "3  LogisticRegression(max_iter=10000, n_jobs=-1, ...                     NaN  \n",
       "4  LogisticRegression(max_iter=10000, n_jobs=-1, ...                     NaN  \n",
       "5  LogisticRegression(max_iter=10000, n_jobs=-1, ...                     NaN  \n",
       "6  LogisticRegression(max_iter=10000, n_jobs=-1, ...                     NaN  \n",
       "7  LogisticRegression(max_iter=10000, n_jobs=-1, ...                     NaN  "
      ]
     },
     "execution_count": 222,
     "metadata": {},
     "output_type": "execute_result"
    }
   ],
   "source": [
    "results"
   ]
  },
  {
   "cell_type": "markdown",
   "id": "7aa14374-e7a9-49fe-8b5e-76d0c76d1675",
   "metadata": {},
   "source": [
    "## KNN models\n",
    "\n",
    "- using more parameters per search since it tends to run faster than logistic regression"
   ]
  },
  {
   "cell_type": "code",
   "execution_count": 41,
   "id": "876ee6e8-3cc0-4651-b869-50c89c8293c1",
   "metadata": {},
   "outputs": [],
   "source": [
    "knn_pipe = Pipeline([\n",
    "    ('cv', CountVectorizer()),\n",
    "    ('knn', KNeighborsClassifier())\n",
    "])"
   ]
  },
  {
   "cell_type": "code",
   "execution_count": 42,
   "id": "5de47655-a1f6-483d-b621-d73869333fcd",
   "metadata": {},
   "outputs": [
    {
     "data": {
      "text/plain": [
       "GridSearchCV(estimator=Pipeline(steps=[('cv', CountVectorizer()),\n",
       "                                       ('knn', KNeighborsClassifier())]),\n",
       "             n_jobs=-1,\n",
       "             param_grid={'cv__min_df': [1e-06, 1e-05, 0.0001, 0.001, 0.01, 0.1],\n",
       "                         'cv__ngram_range': [(1, 2), (1, 3)],\n",
       "                         'cv__stop_words': [['ulpt', 'lpt'],\n",
       "                                            frozenset({'a', 'about', 'above',\n",
       "                                                       'across', 'after',\n",
       "                                                       'afterwards', 'again',\n",
       "                                                       'against', 'all',\n",
       "                                                       'almost', 'alone',\n",
       "                                                       'along', 'already',\n",
       "                                                       'also', 'although',\n",
       "                                                       'always', 'am', 'among',\n",
       "                                                       'amongst', 'amoungst',\n",
       "                                                       'amount', 'an', 'and',\n",
       "                                                       'another', 'any',\n",
       "                                                       'anyhow', 'anyone',\n",
       "                                                       'anything', 'anyway',\n",
       "                                                       'anywhere', ...})],\n",
       "                         'cv__strip_accents': ['ascii', 'unicode'],\n",
       "                         'knn__n_neighbors': [1, 5, 10, 20], 'knn__p': [1, 2],\n",
       "                         'knn__weights': ['uniform', 'distance']})"
      ]
     },
     "execution_count": 42,
     "metadata": {},
     "output_type": "execute_result"
    }
   ],
   "source": [
    "knn_grid = {\n",
    "    'knn__n_neighbors': [1,5,10,20],\n",
    "    'knn__weights': ['uniform', 'distance'],\n",
    "    'knn__p': [1,2]\n",
    "}\n",
    "\n",
    "knn_gs = GridSearchCV(knn_pipe, param_grid=knn_grid, n_jobs=-1)\n",
    "knn_gs.fit(X_train, y_train)"
   ]
  },
  {
   "cell_type": "code",
   "execution_count": 229,
   "id": "738c262d-aff5-4055-8c60-a5c19cf4c70b",
   "metadata": {},
   "outputs": [],
   "source": [
    "best = knn_gs.best_params_\n",
    "best['accuracy'] = knn_gs.best_estimator_.score(X_test, y_test)\n",
    "tested_params = {key.replace('__','_'):knn_gs.param_grid[key] for key in knn_gs.param_grid}\n",
    "best.update(tested_params)\n",
    "best.update(knn_pipe.named_steps)\n",
    "best = {key:[best[key]] for key in best}"
   ]
  },
  {
   "cell_type": "code",
   "execution_count": 230,
   "id": "bb2629d7-6566-4c27-a0c8-1570983c2e46",
   "metadata": {},
   "outputs": [],
   "source": [
    "results = pd.concat([pd.DataFrame(best), results], axis=0, ignore_index=True)"
   ]
  },
  {
   "cell_type": "code",
   "execution_count": 231,
   "id": "8f6e1d17-4e2b-4a75-b41c-7f51a0a67d88",
   "metadata": {},
   "outputs": [
    {
     "data": {
      "text/html": [
       "<div>\n",
       "<style scoped>\n",
       "    .dataframe tbody tr th:only-of-type {\n",
       "        vertical-align: middle;\n",
       "    }\n",
       "\n",
       "    .dataframe tbody tr th {\n",
       "        vertical-align: top;\n",
       "    }\n",
       "\n",
       "    .dataframe thead th {\n",
       "        text-align: right;\n",
       "    }\n",
       "</style>\n",
       "<table border=\"1\" class=\"dataframe\">\n",
       "  <thead>\n",
       "    <tr style=\"text-align: right;\">\n",
       "      <th></th>\n",
       "      <th>cv__min_df</th>\n",
       "      <th>cv__ngram_range</th>\n",
       "      <th>cv__stop_words</th>\n",
       "      <th>cv__strip_accents</th>\n",
       "      <th>knn__n_neighbors</th>\n",
       "      <th>knn__p</th>\n",
       "      <th>knn__weights</th>\n",
       "      <th>accuracy</th>\n",
       "      <th>cv_min_df</th>\n",
       "      <th>cv_stop_words</th>\n",
       "      <th>cv_ngram_range</th>\n",
       "      <th>cv_strip_accents</th>\n",
       "      <th>knn_n_neighbors</th>\n",
       "      <th>knn_weights</th>\n",
       "      <th>knn_p</th>\n",
       "      <th>cv</th>\n",
       "      <th>knn</th>\n",
       "      <th>lr</th>\n",
       "    </tr>\n",
       "  </thead>\n",
       "  <tbody>\n",
       "    <tr>\n",
       "      <th>0</th>\n",
       "      <td>0.100000</td>\n",
       "      <td>(1, 2)</td>\n",
       "      <td>[ulpt, lpt]</td>\n",
       "      <td>ascii</td>\n",
       "      <td>20.0</td>\n",
       "      <td>1.0</td>\n",
       "      <td>uniform</td>\n",
       "      <td>0.767857</td>\n",
       "      <td>[1e-06, 1e-05, 0.0001, 0.001, 0.01, 0.1]</td>\n",
       "      <td>[[ulpt, lpt], (bill, becoming, each, i, de, so...</td>\n",
       "      <td>[(1, 2), (1, 3)]</td>\n",
       "      <td>[ascii, unicode]</td>\n",
       "      <td>[1, 5, 10, 20]</td>\n",
       "      <td>[uniform, distance]</td>\n",
       "      <td>[1, 2]</td>\n",
       "      <td>CountVectorizer()</td>\n",
       "      <td>KNeighborsClassifier()</td>\n",
       "      <td>NaN</td>\n",
       "    </tr>\n",
       "    <tr>\n",
       "      <th>1</th>\n",
       "      <td>0.100000</td>\n",
       "      <td>(1, 2)</td>\n",
       "      <td>(bill, becoming, each, i, de, sometimes, he, t...</td>\n",
       "      <td>ascii</td>\n",
       "      <td>NaN</td>\n",
       "      <td>NaN</td>\n",
       "      <td>NaN</td>\n",
       "      <td>0.754464</td>\n",
       "      <td>[1e-06, 1e-05, 0.0001, 0.001, 0.01, 0.1]</td>\n",
       "      <td>[[ulpt, lpt], (bill, becoming, each, i, de, so...</td>\n",
       "      <td>[(1, 2), (1, 3)]</td>\n",
       "      <td>[ascii, unicode]</td>\n",
       "      <td>NaN</td>\n",
       "      <td>NaN</td>\n",
       "      <td>NaN</td>\n",
       "      <td>CountVectorizer()</td>\n",
       "      <td>KNeighborsClassifier()</td>\n",
       "      <td>NaN</td>\n",
       "    </tr>\n",
       "    <tr>\n",
       "      <th>2</th>\n",
       "      <td>0.000001</td>\n",
       "      <td>(1, 2)</td>\n",
       "      <td>[ulpt, lpt]</td>\n",
       "      <td>unicode</td>\n",
       "      <td>NaN</td>\n",
       "      <td>NaN</td>\n",
       "      <td>NaN</td>\n",
       "      <td>0.832792</td>\n",
       "      <td>[1e-06, 1e-05, 0.0001, 0.001, 0.01, 0.1]</td>\n",
       "      <td>[[ulpt, lpt]]</td>\n",
       "      <td>[(1, 2), (1, 3)]</td>\n",
       "      <td>[ascii, unicode]</td>\n",
       "      <td>NaN</td>\n",
       "      <td>NaN</td>\n",
       "      <td>NaN</td>\n",
       "      <td>CountVectorizer()</td>\n",
       "      <td>NaN</td>\n",
       "      <td>LogisticRegression(max_iter=10000, n_jobs=-1, ...</td>\n",
       "    </tr>\n",
       "    <tr>\n",
       "      <th>3</th>\n",
       "      <td>100.000000</td>\n",
       "      <td>(1, 3)</td>\n",
       "      <td>[ulpt, lpt]</td>\n",
       "      <td>unicode</td>\n",
       "      <td>NaN</td>\n",
       "      <td>NaN</td>\n",
       "      <td>NaN</td>\n",
       "      <td>0.755276</td>\n",
       "      <td>[0, 5, 10, 100]</td>\n",
       "      <td>[[ulpt, lpt], (bill, becoming, each, i, de, so...</td>\n",
       "      <td>[(1, 2), (1, 3)]</td>\n",
       "      <td>[ascii, unicode]</td>\n",
       "      <td>NaN</td>\n",
       "      <td>NaN</td>\n",
       "      <td>NaN</td>\n",
       "      <td>CountVectorizer()</td>\n",
       "      <td>KNeighborsClassifier()</td>\n",
       "      <td>NaN</td>\n",
       "    </tr>\n",
       "    <tr>\n",
       "      <th>4</th>\n",
       "      <td>0.000000</td>\n",
       "      <td>(1, 2)</td>\n",
       "      <td>[ulpt, lpt]</td>\n",
       "      <td>unicode</td>\n",
       "      <td>NaN</td>\n",
       "      <td>NaN</td>\n",
       "      <td>NaN</td>\n",
       "      <td>0.832792</td>\n",
       "      <td>[0, 1]</td>\n",
       "      <td>[[ulpt, lpt]]</td>\n",
       "      <td>[(1, 2), (1, 3)]</td>\n",
       "      <td>[ascii, unicode]</td>\n",
       "      <td>NaN</td>\n",
       "      <td>NaN</td>\n",
       "      <td>NaN</td>\n",
       "      <td>CountVectorizer()</td>\n",
       "      <td>NaN</td>\n",
       "      <td>LogisticRegression(max_iter=10000, n_jobs=-1, ...</td>\n",
       "    </tr>\n",
       "    <tr>\n",
       "      <th>5</th>\n",
       "      <td>1.000000</td>\n",
       "      <td>(1, 2)</td>\n",
       "      <td>[ulpt, lpt]</td>\n",
       "      <td>unicode</td>\n",
       "      <td>NaN</td>\n",
       "      <td>NaN</td>\n",
       "      <td>NaN</td>\n",
       "      <td>0.832792</td>\n",
       "      <td>[1, 5, 10]</td>\n",
       "      <td>[[ulpt, lpt]]</td>\n",
       "      <td>[(1, 2), (1, 3)]</td>\n",
       "      <td>[ascii, unicode]</td>\n",
       "      <td>NaN</td>\n",
       "      <td>NaN</td>\n",
       "      <td>NaN</td>\n",
       "      <td>CountVectorizer()</td>\n",
       "      <td>NaN</td>\n",
       "      <td>LogisticRegression(max_iter=10000, n_jobs=-1, ...</td>\n",
       "    </tr>\n",
       "    <tr>\n",
       "      <th>6</th>\n",
       "      <td>1.000000</td>\n",
       "      <td>(1, 2)</td>\n",
       "      <td>[ulpt, lpt]</td>\n",
       "      <td>NaN</td>\n",
       "      <td>NaN</td>\n",
       "      <td>NaN</td>\n",
       "      <td>NaN</td>\n",
       "      <td>0.832792</td>\n",
       "      <td>[1, 5, 10]</td>\n",
       "      <td>[[ulpt, lpt], (bill, becoming, each, i, de, so...</td>\n",
       "      <td>[(1, 2), (1, 3)]</td>\n",
       "      <td>NaN</td>\n",
       "      <td>NaN</td>\n",
       "      <td>NaN</td>\n",
       "      <td>NaN</td>\n",
       "      <td>CountVectorizer()</td>\n",
       "      <td>NaN</td>\n",
       "      <td>LogisticRegression(max_iter=10000, n_jobs=-1, ...</td>\n",
       "    </tr>\n",
       "    <tr>\n",
       "      <th>7</th>\n",
       "      <td>1.000000</td>\n",
       "      <td>(1, 3)</td>\n",
       "      <td>[ulpt, lpt]</td>\n",
       "      <td>NaN</td>\n",
       "      <td>NaN</td>\n",
       "      <td>NaN</td>\n",
       "      <td>NaN</td>\n",
       "      <td>0.831981</td>\n",
       "      <td>[1, 5, 10]</td>\n",
       "      <td>[[ulpt, lpt]]</td>\n",
       "      <td>[(1, 1), (2, 2), (1, 3)]</td>\n",
       "      <td>NaN</td>\n",
       "      <td>NaN</td>\n",
       "      <td>NaN</td>\n",
       "      <td>NaN</td>\n",
       "      <td>CountVectorizer()</td>\n",
       "      <td>NaN</td>\n",
       "      <td>LogisticRegression(max_iter=10000, n_jobs=-1, ...</td>\n",
       "    </tr>\n",
       "    <tr>\n",
       "      <th>8</th>\n",
       "      <td>10.000000</td>\n",
       "      <td>(1, 2)</td>\n",
       "      <td>english</td>\n",
       "      <td>NaN</td>\n",
       "      <td>NaN</td>\n",
       "      <td>NaN</td>\n",
       "      <td>NaN</td>\n",
       "      <td>0.993506</td>\n",
       "      <td>[1, 5, 10]</td>\n",
       "      <td>[[ulpt, lpt], english]</td>\n",
       "      <td>[(1, 2), (3, 3), (2, 3)]</td>\n",
       "      <td>NaN</td>\n",
       "      <td>NaN</td>\n",
       "      <td>NaN</td>\n",
       "      <td>NaN</td>\n",
       "      <td>CountVectorizer()</td>\n",
       "      <td>NaN</td>\n",
       "      <td>LogisticRegression(max_iter=10000, n_jobs=-1, ...</td>\n",
       "    </tr>\n",
       "    <tr>\n",
       "      <th>9</th>\n",
       "      <td>1.000000</td>\n",
       "      <td>(1, 2)</td>\n",
       "      <td>[ulpt, lpt]</td>\n",
       "      <td>NaN</td>\n",
       "      <td>NaN</td>\n",
       "      <td>NaN</td>\n",
       "      <td>NaN</td>\n",
       "      <td>0.832792</td>\n",
       "      <td>[1, 5, 10]</td>\n",
       "      <td>[[ulpt, lpt]]</td>\n",
       "      <td>[(1, 2), (3, 3), (2, 3)]</td>\n",
       "      <td>NaN</td>\n",
       "      <td>NaN</td>\n",
       "      <td>NaN</td>\n",
       "      <td>NaN</td>\n",
       "      <td>CountVectorizer()</td>\n",
       "      <td>NaN</td>\n",
       "      <td>LogisticRegression(max_iter=10000, n_jobs=-1, ...</td>\n",
       "    </tr>\n",
       "  </tbody>\n",
       "</table>\n",
       "</div>"
      ],
      "text/plain": [
       "   cv__min_df cv__ngram_range  \\\n",
       "0    0.100000          (1, 2)   \n",
       "1    0.100000          (1, 2)   \n",
       "2    0.000001          (1, 2)   \n",
       "3  100.000000          (1, 3)   \n",
       "4    0.000000          (1, 2)   \n",
       "5    1.000000          (1, 2)   \n",
       "6    1.000000          (1, 2)   \n",
       "7    1.000000          (1, 3)   \n",
       "8   10.000000          (1, 2)   \n",
       "9    1.000000          (1, 2)   \n",
       "\n",
       "                                      cv__stop_words cv__strip_accents  \\\n",
       "0                                        [ulpt, lpt]             ascii   \n",
       "1  (bill, becoming, each, i, de, sometimes, he, t...             ascii   \n",
       "2                                        [ulpt, lpt]           unicode   \n",
       "3                                        [ulpt, lpt]           unicode   \n",
       "4                                        [ulpt, lpt]           unicode   \n",
       "5                                        [ulpt, lpt]           unicode   \n",
       "6                                        [ulpt, lpt]               NaN   \n",
       "7                                        [ulpt, lpt]               NaN   \n",
       "8                                            english               NaN   \n",
       "9                                        [ulpt, lpt]               NaN   \n",
       "\n",
       "   knn__n_neighbors  knn__p knn__weights  accuracy  \\\n",
       "0              20.0     1.0      uniform  0.767857   \n",
       "1               NaN     NaN          NaN  0.754464   \n",
       "2               NaN     NaN          NaN  0.832792   \n",
       "3               NaN     NaN          NaN  0.755276   \n",
       "4               NaN     NaN          NaN  0.832792   \n",
       "5               NaN     NaN          NaN  0.832792   \n",
       "6               NaN     NaN          NaN  0.832792   \n",
       "7               NaN     NaN          NaN  0.831981   \n",
       "8               NaN     NaN          NaN  0.993506   \n",
       "9               NaN     NaN          NaN  0.832792   \n",
       "\n",
       "                                  cv_min_df  \\\n",
       "0  [1e-06, 1e-05, 0.0001, 0.001, 0.01, 0.1]   \n",
       "1  [1e-06, 1e-05, 0.0001, 0.001, 0.01, 0.1]   \n",
       "2  [1e-06, 1e-05, 0.0001, 0.001, 0.01, 0.1]   \n",
       "3                           [0, 5, 10, 100]   \n",
       "4                                    [0, 1]   \n",
       "5                                [1, 5, 10]   \n",
       "6                                [1, 5, 10]   \n",
       "7                                [1, 5, 10]   \n",
       "8                                [1, 5, 10]   \n",
       "9                                [1, 5, 10]   \n",
       "\n",
       "                                       cv_stop_words  \\\n",
       "0  [[ulpt, lpt], (bill, becoming, each, i, de, so...   \n",
       "1  [[ulpt, lpt], (bill, becoming, each, i, de, so...   \n",
       "2                                      [[ulpt, lpt]]   \n",
       "3  [[ulpt, lpt], (bill, becoming, each, i, de, so...   \n",
       "4                                      [[ulpt, lpt]]   \n",
       "5                                      [[ulpt, lpt]]   \n",
       "6  [[ulpt, lpt], (bill, becoming, each, i, de, so...   \n",
       "7                                      [[ulpt, lpt]]   \n",
       "8                             [[ulpt, lpt], english]   \n",
       "9                                      [[ulpt, lpt]]   \n",
       "\n",
       "             cv_ngram_range  cv_strip_accents knn_n_neighbors  \\\n",
       "0          [(1, 2), (1, 3)]  [ascii, unicode]  [1, 5, 10, 20]   \n",
       "1          [(1, 2), (1, 3)]  [ascii, unicode]             NaN   \n",
       "2          [(1, 2), (1, 3)]  [ascii, unicode]             NaN   \n",
       "3          [(1, 2), (1, 3)]  [ascii, unicode]             NaN   \n",
       "4          [(1, 2), (1, 3)]  [ascii, unicode]             NaN   \n",
       "5          [(1, 2), (1, 3)]  [ascii, unicode]             NaN   \n",
       "6          [(1, 2), (1, 3)]               NaN             NaN   \n",
       "7  [(1, 1), (2, 2), (1, 3)]               NaN             NaN   \n",
       "8  [(1, 2), (3, 3), (2, 3)]               NaN             NaN   \n",
       "9  [(1, 2), (3, 3), (2, 3)]               NaN             NaN   \n",
       "\n",
       "           knn_weights   knn_p                 cv                     knn  \\\n",
       "0  [uniform, distance]  [1, 2]  CountVectorizer()  KNeighborsClassifier()   \n",
       "1                  NaN     NaN  CountVectorizer()  KNeighborsClassifier()   \n",
       "2                  NaN     NaN  CountVectorizer()                     NaN   \n",
       "3                  NaN     NaN  CountVectorizer()  KNeighborsClassifier()   \n",
       "4                  NaN     NaN  CountVectorizer()                     NaN   \n",
       "5                  NaN     NaN  CountVectorizer()                     NaN   \n",
       "6                  NaN     NaN  CountVectorizer()                     NaN   \n",
       "7                  NaN     NaN  CountVectorizer()                     NaN   \n",
       "8                  NaN     NaN  CountVectorizer()                     NaN   \n",
       "9                  NaN     NaN  CountVectorizer()                     NaN   \n",
       "\n",
       "                                                  lr  \n",
       "0                                                NaN  \n",
       "1                                                NaN  \n",
       "2  LogisticRegression(max_iter=10000, n_jobs=-1, ...  \n",
       "3                                                NaN  \n",
       "4  LogisticRegression(max_iter=10000, n_jobs=-1, ...  \n",
       "5  LogisticRegression(max_iter=10000, n_jobs=-1, ...  \n",
       "6  LogisticRegression(max_iter=10000, n_jobs=-1, ...  \n",
       "7  LogisticRegression(max_iter=10000, n_jobs=-1, ...  \n",
       "8  LogisticRegression(max_iter=10000, n_jobs=-1, ...  \n",
       "9  LogisticRegression(max_iter=10000, n_jobs=-1, ...  "
      ]
     },
     "execution_count": 231,
     "metadata": {},
     "output_type": "execute_result"
    }
   ],
   "source": [
    "results"
   ]
  },
  {
   "cell_type": "code",
   "execution_count": 43,
   "id": "00c248ca-81bc-429a-ad12-a8a7a8accc9a",
   "metadata": {},
   "outputs": [
    {
     "data": {
      "image/png": "[encoded data removed]",
      "text/plain": [
       "<Figure size 432x288 with 2 Axes>"
      ]
     },
     "metadata": {
      "needs_background": "light"
     },
     "output_type": "display_data"
    }
   ],
   "source": [
    "ConfusionMatrixDisplay.from_estimator(knn_gs, X_test, y_test, cmap='Blues');"
   ]
  },
  {
   "cell_type": "markdown",
   "id": "a0e704c3-8e92-4093-90d3-a25178ca896e",
   "metadata": {},
   "source": [
    "## Trees\n",
    "\n",
    "- ExtraTreesClassifier\n"
   ]
  },
  {
   "cell_type": "code",
   "execution_count": 19,
   "id": "9064390d-5418-4879-bbc2-2e3310ffa29c",
   "metadata": {},
   "outputs": [],
   "source": [
    "etc_pipe = Pipeline([\n",
    "    ('cv', CountVectorizer()),\n",
    "    ('etc', ExtraTreesClassifier(rarandom_state=_state=1357))\n",
    "])"
   ]
  },
  {
   "cell_type": "code",
   "execution_count": 28,
   "id": "c4f8d964-bced-4a8c-960d-873f27dbe928",
   "metadata": {},
   "outputs": [
    {
     "data": {
      "text/plain": [
       "GridSearchCV(estimator=Pipeline(steps=[('cv', CountVectorizer()),\n",
       "                                       ('etc', ExtraTreesClassifier())]),\n",
       "             n_jobs=-1,\n",
       "             param_grid={'cv__ngram_range': [(1, 1)],\n",
       "                         'cv__stop_words': [['ulpt', 'lpt']],\n",
       "                         'cv__strip_accents': ['ascii'],\n",
       "                         'etc__criterion': ['gini', 'entropy'],\n",
       "                         'etc__min_samples_leaf': [1, 5, 20],\n",
       "                         'etc__min_samples_split': [2, 5, 10, 50],\n",
       "                         'etc__n_estimators': [100, 150, 200]})"
      ]
     },
     "execution_count": 28,
     "metadata": {},
     "output_type": "execute_result"
    }
   ],
   "source": [
    "etc_grid = {\n",
    "    \"cv__stop_words\": [stops],\n",
    "    'cv__ngram_range': [(1,1)],\n",
    "    'cv__strip_accents': ['ascii'],\n",
    "    'etc__min_samples_split': [2, 5, 10, 50],\n",
    "    'etc__n_estimators': [100, 150, 200],\n",
    "    'etc__min_samples_leaf': [1, 5, 20],\n",
    "    'etc__criterion': ['gini', 'entropy']\n",
    "}\n",
    "etc_gs = GridSearchCV(etc_pipe, param_grid=etc_grid, n_jobs=-1)\n",
    "etc_gs.fit(X_train, y_train)"
   ]
  },
  {
   "cell_type": "code",
   "execution_count": 29,
   "id": "413e063d-853b-46a0-bc7b-ae597a03b529",
   "metadata": {},
   "outputs": [],
   "source": [
    "best = etc_gs.best_params_\n",
    "best['accuracy'] = etc_gs.best_estimator_.score(X_test, y_test)\n",
    "tested_params = {key.replace('__','_'):etc_gs.param_grid[key] for key in etc_gs.param_grid}\n",
    "best.update(tested_params)\n",
    "best.update(etc_pipe.named_steps)\n",
    "best = {key:[best[key]] for key in best}"
   ]
  },
  {
   "cell_type": "code",
   "execution_count": 30,
   "id": "28bfea44-cacd-4164-98bd-587c7dc0bef3",
   "metadata": {},
   "outputs": [],
   "source": [
    "results = pd.concat([pd.DataFrame(best), results], axis=0, ignore_index=True)"
   ]
  },
  {
   "cell_type": "code",
   "execution_count": 31,
   "id": "265335d2-18bc-4543-bb3f-7b34bd760bc2",
   "metadata": {},
   "outputs": [
    {
     "data": {
      "text/html": [
       "<div>\n",
       "<style scoped>\n",
       "    .dataframe tbody tr th:only-of-type {\n",
       "        vertical-align: middle;\n",
       "    }\n",
       "\n",
       "    .dataframe tbody tr th {\n",
       "        vertical-align: top;\n",
       "    }\n",
       "\n",
       "    .dataframe thead th {\n",
       "        text-align: right;\n",
       "    }\n",
       "</style>\n",
       "<table border=\"1\" class=\"dataframe\">\n",
       "  <thead>\n",
       "    <tr style=\"text-align: right;\">\n",
       "      <th></th>\n",
       "      <th>cv__ngram_range</th>\n",
       "      <th>cv__stop_words</th>\n",
       "      <th>cv__strip_accents</th>\n",
       "      <th>etc__criterion</th>\n",
       "      <th>etc__min_samples_leaf</th>\n",
       "      <th>etc__min_samples_split</th>\n",
       "      <th>etc__n_estimators</th>\n",
       "      <th>accuracy</th>\n",
       "      <th>cv_stop_words</th>\n",
       "      <th>cv_ngram_range</th>\n",
       "      <th>...</th>\n",
       "      <th>etc</th>\n",
       "      <th>rfc__criterion</th>\n",
       "      <th>rfc__min_samples_leaf</th>\n",
       "      <th>rfc__min_samples_split</th>\n",
       "      <th>rfc__n_estimators</th>\n",
       "      <th>rfc_min_samples_split</th>\n",
       "      <th>rfc_n_estimators</th>\n",
       "      <th>rfc_min_samples_leaf</th>\n",
       "      <th>rfc_criterion</th>\n",
       "      <th>rfc</th>\n",
       "    </tr>\n",
       "  </thead>\n",
       "  <tbody>\n",
       "    <tr>\n",
       "      <th>0</th>\n",
       "      <td>(1, 1)</td>\n",
       "      <td>[ulpt, lpt]</td>\n",
       "      <td>ascii</td>\n",
       "      <td>gini</td>\n",
       "      <td>1.0</td>\n",
       "      <td>10.0</td>\n",
       "      <td>150.0</td>\n",
       "      <td>0.817776</td>\n",
       "      <td>[[ulpt, lpt]]</td>\n",
       "      <td>[(1, 1)]</td>\n",
       "      <td>...</td>\n",
       "      <td>ExtraTreesClassifier()</td>\n",
       "      <td>NaN</td>\n",
       "      <td>NaN</td>\n",
       "      <td>NaN</td>\n",
       "      <td>NaN</td>\n",
       "      <td>NaN</td>\n",
       "      <td>NaN</td>\n",
       "      <td>NaN</td>\n",
       "      <td>NaN</td>\n",
       "      <td>NaN</td>\n",
       "    </tr>\n",
       "    <tr>\n",
       "      <th>1</th>\n",
       "      <td>(1, 1)</td>\n",
       "      <td>[ulpt, lpt]</td>\n",
       "      <td>unicode</td>\n",
       "      <td>NaN</td>\n",
       "      <td>NaN</td>\n",
       "      <td>NaN</td>\n",
       "      <td>NaN</td>\n",
       "      <td>0.812906</td>\n",
       "      <td>[[ulpt, lpt]]</td>\n",
       "      <td>[(1, 1)]</td>\n",
       "      <td>...</td>\n",
       "      <td>NaN</td>\n",
       "      <td>entropy</td>\n",
       "      <td>1.0</td>\n",
       "      <td>5.0</td>\n",
       "      <td>100.0</td>\n",
       "      <td>[2, 5, 10, 50]</td>\n",
       "      <td>[100, 150, 200]</td>\n",
       "      <td>[1, 5, 20]</td>\n",
       "      <td>[gini, entropy]</td>\n",
       "      <td>RandomForestClassifier()</td>\n",
       "    </tr>\n",
       "    <tr>\n",
       "      <th>2</th>\n",
       "      <td>(1, 1)</td>\n",
       "      <td>[ulpt, lpt]</td>\n",
       "      <td>ascii</td>\n",
       "      <td>NaN</td>\n",
       "      <td>1.0</td>\n",
       "      <td>5.0</td>\n",
       "      <td>100.0</td>\n",
       "      <td>0.819399</td>\n",
       "      <td>[[ulpt, lpt]]</td>\n",
       "      <td>[(1, 1)]</td>\n",
       "      <td>...</td>\n",
       "      <td>ExtraTreesClassifier()</td>\n",
       "      <td>NaN</td>\n",
       "      <td>NaN</td>\n",
       "      <td>NaN</td>\n",
       "      <td>NaN</td>\n",
       "      <td>NaN</td>\n",
       "      <td>NaN</td>\n",
       "      <td>NaN</td>\n",
       "      <td>NaN</td>\n",
       "      <td>NaN</td>\n",
       "    </tr>\n",
       "    <tr>\n",
       "      <th>3</th>\n",
       "      <td>(1, 1)</td>\n",
       "      <td>[ulpt, lpt]</td>\n",
       "      <td>unicode</td>\n",
       "      <td>NaN</td>\n",
       "      <td>NaN</td>\n",
       "      <td>NaN</td>\n",
       "      <td>NaN</td>\n",
       "      <td>0.815747</td>\n",
       "      <td>[[ulpt, lpt]]</td>\n",
       "      <td>[(1, 1)]</td>\n",
       "      <td>...</td>\n",
       "      <td>NaN</td>\n",
       "      <td>NaN</td>\n",
       "      <td>1.0</td>\n",
       "      <td>5.0</td>\n",
       "      <td>150.0</td>\n",
       "      <td>[2, 5, 10, 50]</td>\n",
       "      <td>[100, 150, 200]</td>\n",
       "      <td>[1, 5, 20]</td>\n",
       "      <td>NaN</td>\n",
       "      <td>RandomForestClassifier()</td>\n",
       "    </tr>\n",
       "    <tr>\n",
       "      <th>4</th>\n",
       "      <td>(1, 1)</td>\n",
       "      <td>[ulpt, lpt]</td>\n",
       "      <td>unicode</td>\n",
       "      <td>NaN</td>\n",
       "      <td>NaN</td>\n",
       "      <td>NaN</td>\n",
       "      <td>NaN</td>\n",
       "      <td>0.811282</td>\n",
       "      <td>[[ulpt, lpt], (should, must, around, by, other...</td>\n",
       "      <td>[(1, 1), (1, 2), (1, 3), (2, 2), (2, 3), (3, 3)]</td>\n",
       "      <td>...</td>\n",
       "      <td>NaN</td>\n",
       "      <td>NaN</td>\n",
       "      <td>NaN</td>\n",
       "      <td>NaN</td>\n",
       "      <td>NaN</td>\n",
       "      <td>NaN</td>\n",
       "      <td>NaN</td>\n",
       "      <td>NaN</td>\n",
       "      <td>NaN</td>\n",
       "      <td>RandomForestClassifier()</td>\n",
       "    </tr>\n",
       "  </tbody>\n",
       "</table>\n",
       "<p>5 rows × 26 columns</p>\n",
       "</div>"
      ],
      "text/plain": [
       "  cv__ngram_range cv__stop_words cv__strip_accents etc__criterion  \\\n",
       "0          (1, 1)    [ulpt, lpt]             ascii           gini   \n",
       "1          (1, 1)    [ulpt, lpt]           unicode            NaN   \n",
       "2          (1, 1)    [ulpt, lpt]             ascii            NaN   \n",
       "3          (1, 1)    [ulpt, lpt]           unicode            NaN   \n",
       "4          (1, 1)    [ulpt, lpt]           unicode            NaN   \n",
       "\n",
       "   etc__min_samples_leaf  etc__min_samples_split  etc__n_estimators  accuracy  \\\n",
       "0                    1.0                    10.0              150.0  0.817776   \n",
       "1                    NaN                     NaN                NaN  0.812906   \n",
       "2                    1.0                     5.0              100.0  0.819399   \n",
       "3                    NaN                     NaN                NaN  0.815747   \n",
       "4                    NaN                     NaN                NaN  0.811282   \n",
       "\n",
       "                                       cv_stop_words  \\\n",
       "0                                      [[ulpt, lpt]]   \n",
       "1                                      [[ulpt, lpt]]   \n",
       "2                                      [[ulpt, lpt]]   \n",
       "3                                      [[ulpt, lpt]]   \n",
       "4  [[ulpt, lpt], (should, must, around, by, other...   \n",
       "\n",
       "                                     cv_ngram_range  ...  \\\n",
       "0                                          [(1, 1)]  ...   \n",
       "1                                          [(1, 1)]  ...   \n",
       "2                                          [(1, 1)]  ...   \n",
       "3                                          [(1, 1)]  ...   \n",
       "4  [(1, 1), (1, 2), (1, 3), (2, 2), (2, 3), (3, 3)]  ...   \n",
       "\n",
       "                      etc rfc__criterion rfc__min_samples_leaf  \\\n",
       "0  ExtraTreesClassifier()            NaN                   NaN   \n",
       "1                     NaN        entropy                   1.0   \n",
       "2  ExtraTreesClassifier()            NaN                   NaN   \n",
       "3                     NaN            NaN                   1.0   \n",
       "4                     NaN            NaN                   NaN   \n",
       "\n",
       "  rfc__min_samples_split rfc__n_estimators rfc_min_samples_split  \\\n",
       "0                    NaN               NaN                   NaN   \n",
       "1                    5.0             100.0        [2, 5, 10, 50]   \n",
       "2                    NaN               NaN                   NaN   \n",
       "3                    5.0             150.0        [2, 5, 10, 50]   \n",
       "4                    NaN               NaN                   NaN   \n",
       "\n",
       "  rfc_n_estimators rfc_min_samples_leaf    rfc_criterion  \\\n",
       "0              NaN                  NaN              NaN   \n",
       "1  [100, 150, 200]           [1, 5, 20]  [gini, entropy]   \n",
       "2              NaN                  NaN              NaN   \n",
       "3  [100, 150, 200]           [1, 5, 20]              NaN   \n",
       "4              NaN                  NaN              NaN   \n",
       "\n",
       "                        rfc  \n",
       "0                       NaN  \n",
       "1  RandomForestClassifier()  \n",
       "2                       NaN  \n",
       "3  RandomForestClassifier()  \n",
       "4  RandomForestClassifier()  \n",
       "\n",
       "[5 rows x 26 columns]"
      ]
     },
     "execution_count": 31,
     "metadata": {},
     "output_type": "execute_result"
    }
   ],
   "source": [
    "results"
   ]
  },
  {
   "cell_type": "code",
   "execution_count": 40,
   "id": "d289fd0c-0dd1-4211-9aaa-d3fb0a854191",
   "metadata": {},
   "outputs": [
    {
     "data": {
      "text/plain": [
       "<sklearn.metrics._plot.confusion_matrix.ConfusionMatrixDisplay at 0x209327a5be0>"
      ]
     },
     "execution_count": 40,
     "metadata": {},
     "output_type": "execute_result"
    },
    {
     "data": {
      "image/png": "[encoded data removed]",
      "text/plain": [
       "<Figure size 432x288 with 2 Axes>"
      ]
     },
     "metadata": {
      "needs_background": "light"
     },
     "output_type": "display_data"
    }
   ],
   "source": [
    "ConfusionMatrixDisplay.from_estimator(etc_gs, X_test, y_test, cmap='Blues');"
   ]
  },
  {
   "cell_type": "code",
   "execution_count": null,
   "id": "80dfe89b-3105-42c6-915e-368548e4970f",
   "metadata": {},
   "outputs": [],
   "source": []
  },
  {
   "cell_type": "code",
   "execution_count": 7,
   "id": "e4065c3f-9912-4e92-ace6-8220de88ab1e",
   "metadata": {},
   "outputs": [],
   "source": [
    "rfc_pipe = Pipeline([\n",
    "    ('cv', CountVectorizer()),\n",
    "    ('rfc', RandomForestClassifier(random_state=1357))\n",
    "])"
   ]
  },
  {
   "cell_type": "code",
   "execution_count": 24,
   "id": "0a280080-191a-4e2f-9912-6a19626db6f1",
   "metadata": {},
   "outputs": [
    {
     "data": {
      "text/plain": [
       "GridSearchCV(estimator=Pipeline(steps=[('cv', CountVectorizer()),\n",
       "                                       ('rfc', RandomForestClassifier())]),\n",
       "             n_jobs=-1,\n",
       "             param_grid={'cv__ngram_range': [(1, 1)],\n",
       "                         'cv__stop_words': [['ulpt', 'lpt']],\n",
       "                         'cv__strip_accents': ['unicode'],\n",
       "                         'rfc__criterion': ['gini', 'entropy'],\n",
       "                         'rfc__min_samples_leaf': [1, 5, 20],\n",
       "                         'rfc__min_samples_split': [2, 5, 10, 50],\n",
       "                         'rfc__n_estimators': [100, 150, 200]})"
      ]
     },
     "execution_count": 24,
     "metadata": {},
     "output_type": "execute_result"
    }
   ],
   "source": [
    "rfc_grid = {\n",
    "    \"cv__stop_words\": [stops],\n",
    "    'cv__ngram_range': [(1,1)],\n",
    "    'cv__strip_accents': ['unicode'],\n",
    "    'rfc__min_samples_split': [2, 5, 10, 50],\n",
    "    'rfc__n_estimators': [100, 150, 200],\n",
    "    'rfc__min_samples_leaf': [1, 5, 20],\n",
    "    'rfc__criterion': ['gini', 'entropy']\n",
    "}\n",
    "rfc_gs = GridSearchCV(rfc_pipe, param_grid=rfc_grid, n_jobs=-1)\n",
    "rfc_gs.fit(X_train, y_train)"
   ]
  },
  {
   "cell_type": "code",
   "execution_count": 25,
   "id": "71817f06-da36-485e-bdad-240fa8f8c8da",
   "metadata": {},
   "outputs": [],
   "source": [
    "best = rfc_gs.best_params_\n",
    "best['accuracy'] = rfc_gs.best_estimator_.score(X_test, y_test)\n",
    "tested_params = {key.replace('__','_'):rfc_gs.param_grid[key] for key in rfc_gs.param_grid}\n",
    "best.update(tested_params)\n",
    "best.update(rfc_pipe.named_steps)\n",
    "best = {key:[best[key]] for key in best}"
   ]
  },
  {
   "cell_type": "code",
   "execution_count": 26,
   "id": "97616df2-2dbf-47c5-abf0-e13e3f99d437",
   "metadata": {},
   "outputs": [],
   "source": [
    "results = pd.concat([pd.DataFrame(best), results], axis=0, ignore_index=True)"
   ]
  },
  {
   "cell_type": "code",
   "execution_count": 27,
   "id": "a7dec248-8136-4820-9347-73c91fb39277",
   "metadata": {},
   "outputs": [
    {
     "data": {
      "text/html": [
       "<div>\n",
       "<style scoped>\n",
       "    .dataframe tbody tr th:only-of-type {\n",
       "        vertical-align: middle;\n",
       "    }\n",
       "\n",
       "    .dataframe tbody tr th {\n",
       "        vertical-align: top;\n",
       "    }\n",
       "\n",
       "    .dataframe thead th {\n",
       "        text-align: right;\n",
       "    }\n",
       "</style>\n",
       "<table border=\"1\" class=\"dataframe\">\n",
       "  <thead>\n",
       "    <tr style=\"text-align: right;\">\n",
       "      <th></th>\n",
       "      <th>cv__ngram_range</th>\n",
       "      <th>cv__stop_words</th>\n",
       "      <th>cv__strip_accents</th>\n",
       "      <th>rfc__criterion</th>\n",
       "      <th>rfc__min_samples_leaf</th>\n",
       "      <th>rfc__min_samples_split</th>\n",
       "      <th>rfc__n_estimators</th>\n",
       "      <th>accuracy</th>\n",
       "      <th>cv_stop_words</th>\n",
       "      <th>cv_ngram_range</th>\n",
       "      <th>...</th>\n",
       "      <th>rfc_criterion</th>\n",
       "      <th>cv</th>\n",
       "      <th>rfc</th>\n",
       "      <th>etc__min_samples_leaf</th>\n",
       "      <th>etc__min_samples_split</th>\n",
       "      <th>etc__n_estimators</th>\n",
       "      <th>etc_min_samples_split</th>\n",
       "      <th>etc_n_estimators</th>\n",
       "      <th>etc_min_samples_leaf</th>\n",
       "      <th>etc</th>\n",
       "    </tr>\n",
       "  </thead>\n",
       "  <tbody>\n",
       "    <tr>\n",
       "      <th>1</th>\n",
       "      <td>(1, 1)</td>\n",
       "      <td>[ulpt, lpt]</td>\n",
       "      <td>ascii</td>\n",
       "      <td>NaN</td>\n",
       "      <td>NaN</td>\n",
       "      <td>NaN</td>\n",
       "      <td>NaN</td>\n",
       "      <td>0.819399</td>\n",
       "      <td>[[ulpt, lpt]]</td>\n",
       "      <td>[(1, 1)]</td>\n",
       "      <td>...</td>\n",
       "      <td>NaN</td>\n",
       "      <td>CountVectorizer()</td>\n",
       "      <td>NaN</td>\n",
       "      <td>1.0</td>\n",
       "      <td>5.0</td>\n",
       "      <td>100.0</td>\n",
       "      <td>[2, 5, 10, 50]</td>\n",
       "      <td>[100, 150, 200]</td>\n",
       "      <td>[1, 5, 20]</td>\n",
       "      <td>ExtraTreesClassifier()</td>\n",
       "    </tr>\n",
       "    <tr>\n",
       "      <th>2</th>\n",
       "      <td>(1, 1)</td>\n",
       "      <td>[ulpt, lpt]</td>\n",
       "      <td>unicode</td>\n",
       "      <td>NaN</td>\n",
       "      <td>1.0</td>\n",
       "      <td>5.0</td>\n",
       "      <td>150.0</td>\n",
       "      <td>0.815747</td>\n",
       "      <td>[[ulpt, lpt]]</td>\n",
       "      <td>[(1, 1)]</td>\n",
       "      <td>...</td>\n",
       "      <td>NaN</td>\n",
       "      <td>CountVectorizer()</td>\n",
       "      <td>RandomForestClassifier()</td>\n",
       "      <td>NaN</td>\n",
       "      <td>NaN</td>\n",
       "      <td>NaN</td>\n",
       "      <td>NaN</td>\n",
       "      <td>NaN</td>\n",
       "      <td>NaN</td>\n",
       "      <td>NaN</td>\n",
       "    </tr>\n",
       "    <tr>\n",
       "      <th>0</th>\n",
       "      <td>(1, 1)</td>\n",
       "      <td>[ulpt, lpt]</td>\n",
       "      <td>unicode</td>\n",
       "      <td>entropy</td>\n",
       "      <td>1.0</td>\n",
       "      <td>5.0</td>\n",
       "      <td>100.0</td>\n",
       "      <td>0.812906</td>\n",
       "      <td>[[ulpt, lpt]]</td>\n",
       "      <td>[(1, 1)]</td>\n",
       "      <td>...</td>\n",
       "      <td>[gini, entropy]</td>\n",
       "      <td>CountVectorizer()</td>\n",
       "      <td>RandomForestClassifier()</td>\n",
       "      <td>NaN</td>\n",
       "      <td>NaN</td>\n",
       "      <td>NaN</td>\n",
       "      <td>NaN</td>\n",
       "      <td>NaN</td>\n",
       "      <td>NaN</td>\n",
       "      <td>NaN</td>\n",
       "    </tr>\n",
       "    <tr>\n",
       "      <th>3</th>\n",
       "      <td>(1, 1)</td>\n",
       "      <td>[ulpt, lpt]</td>\n",
       "      <td>unicode</td>\n",
       "      <td>NaN</td>\n",
       "      <td>NaN</td>\n",
       "      <td>NaN</td>\n",
       "      <td>NaN</td>\n",
       "      <td>0.811282</td>\n",
       "      <td>[[ulpt, lpt], (should, must, around, by, other...</td>\n",
       "      <td>[(1, 1), (1, 2), (1, 3), (2, 2), (2, 3), (3, 3)]</td>\n",
       "      <td>...</td>\n",
       "      <td>NaN</td>\n",
       "      <td>CountVectorizer()</td>\n",
       "      <td>RandomForestClassifier()</td>\n",
       "      <td>NaN</td>\n",
       "      <td>NaN</td>\n",
       "      <td>NaN</td>\n",
       "      <td>NaN</td>\n",
       "      <td>NaN</td>\n",
       "      <td>NaN</td>\n",
       "      <td>NaN</td>\n",
       "    </tr>\n",
       "  </tbody>\n",
       "</table>\n",
       "<p>4 rows × 24 columns</p>\n",
       "</div>"
      ],
      "text/plain": [
       "  cv__ngram_range cv__stop_words cv__strip_accents rfc__criterion  \\\n",
       "1          (1, 1)    [ulpt, lpt]             ascii            NaN   \n",
       "2          (1, 1)    [ulpt, lpt]           unicode            NaN   \n",
       "0          (1, 1)    [ulpt, lpt]           unicode        entropy   \n",
       "3          (1, 1)    [ulpt, lpt]           unicode            NaN   \n",
       "\n",
       "   rfc__min_samples_leaf  rfc__min_samples_split  rfc__n_estimators  accuracy  \\\n",
       "1                    NaN                     NaN                NaN  0.819399   \n",
       "2                    1.0                     5.0              150.0  0.815747   \n",
       "0                    1.0                     5.0              100.0  0.812906   \n",
       "3                    NaN                     NaN                NaN  0.811282   \n",
       "\n",
       "                                       cv_stop_words  \\\n",
       "1                                      [[ulpt, lpt]]   \n",
       "2                                      [[ulpt, lpt]]   \n",
       "0                                      [[ulpt, lpt]]   \n",
       "3  [[ulpt, lpt], (should, must, around, by, other...   \n",
       "\n",
       "                                     cv_ngram_range  ...    rfc_criterion  \\\n",
       "1                                          [(1, 1)]  ...              NaN   \n",
       "2                                          [(1, 1)]  ...              NaN   \n",
       "0                                          [(1, 1)]  ...  [gini, entropy]   \n",
       "3  [(1, 1), (1, 2), (1, 3), (2, 2), (2, 3), (3, 3)]  ...              NaN   \n",
       "\n",
       "                  cv                       rfc etc__min_samples_leaf  \\\n",
       "1  CountVectorizer()                       NaN                   1.0   \n",
       "2  CountVectorizer()  RandomForestClassifier()                   NaN   \n",
       "0  CountVectorizer()  RandomForestClassifier()                   NaN   \n",
       "3  CountVectorizer()  RandomForestClassifier()                   NaN   \n",
       "\n",
       "  etc__min_samples_split etc__n_estimators etc_min_samples_split  \\\n",
       "1                    5.0             100.0        [2, 5, 10, 50]   \n",
       "2                    NaN               NaN                   NaN   \n",
       "0                    NaN               NaN                   NaN   \n",
       "3                    NaN               NaN                   NaN   \n",
       "\n",
       "   etc_n_estimators  etc_min_samples_leaf                     etc  \n",
       "1   [100, 150, 200]            [1, 5, 20]  ExtraTreesClassifier()  \n",
       "2               NaN                   NaN                     NaN  \n",
       "0               NaN                   NaN                     NaN  \n",
       "3               NaN                   NaN                     NaN  \n",
       "\n",
       "[4 rows x 24 columns]"
      ]
     },
     "execution_count": 27,
     "metadata": {},
     "output_type": "execute_result"
    }
   ],
   "source": [
    "results.sort_values(by = 'accuracy', ascending=False)"
   ]
  },
  {
   "cell_type": "code",
   "execution_count": 37,
   "id": "f8bf84ab-aa24-483f-9b87-56ca695e9986",
   "metadata": {},
   "outputs": [
    {
     "data": {
      "text/plain": [
       "<sklearn.metrics._plot.confusion_matrix.ConfusionMatrixDisplay at 0x20921f25760>"
      ]
     },
     "execution_count": 37,
     "metadata": {},
     "output_type": "execute_result"
    },
    {
     "data": {
      "image/png": "[encoded data removed]",
      "text/plain": [
       "<Figure size 432x288 with 2 Axes>"
      ]
     },
     "metadata": {
      "needs_background": "light"
     },
     "output_type": "display_data"
    }
   ],
   "source": [
    "ConfusionMatrixDisplay.from_estimator(rfc_gs, X_test, y_test, cmap='Blues');"
   ]
  },
  {
   "cell_type": "markdown",
   "id": "e7d05471-5ef3-4347-9f2f-a5a64cc82f46",
   "metadata": {},
   "source": [
    "# Voting Classifier\n",
    "\n",
    " - unsuccessful in achieving a score higher than just lr. seems to be a cap?\n"
   ]
  },
  {
   "cell_type": "code",
   "execution_count": 62,
   "id": "c57c0139-21df-4dfd-a16e-0fddc065f164",
   "metadata": {},
   "outputs": [
    {
     "data": {
      "text/plain": [
       "0.8193993506493507"
      ]
     },
     "execution_count": 62,
     "metadata": {},
     "output_type": "execute_result"
    }
   ],
   "source": [
    "# using integer weights since it auto scales to where sum of weights is 1\n",
    "vc = VotingClassifier(\n",
    "    [\n",
    "        ('lr', gs.best_estimator_),\n",
    "        ('knn', knn_gs.best_estimator_),\n",
    "        ('rfc', rfc_gs.best_estimator_),\n",
    "        ('ect', etc_gs.best_estimator_)\n",
    "    ],\n",
    "    n_jobs=-1,\n",
    "    weights = [8,3,5,9]\n",
    ")\n",
    "\n",
    "\n",
    "vc.fit(X_train, y_train)\n",
    "vc.score(X_test,y_test)"
   ]
  },
  {
   "cell_type": "markdown",
   "id": "656ff06d-6a7b-43d7-8ef6-f97f2f934daa",
   "metadata": {},
   "source": [
    "## What are the models getting wrong?\n",
    "\n",
    "Identifying posts that models have been getting wrong to attempt to identify commonalities"
   ]
  },
  {
   "cell_type": "code",
   "execution_count": 23,
   "id": "11376ec6-775f-47bd-912a-20468ba59c15",
   "metadata": {
    "collapsed": true,
    "jupyter": {
     "outputs_hidden": true
    },
    "tags": []
   },
   "outputs": [
    {
     "ename": "NameError",
     "evalue": "name 'gs' is not defined",
     "output_type": "error",
     "traceback": [
      "\u001b[1;31m---------------------------------------------------------------------------\u001b[0m",
      "\u001b[1;31mNameError\u001b[0m                                 Traceback (most recent call last)",
      "\u001b[1;32m~\\AppData\\Local\\Temp/ipykernel_14828/2658619756.py\u001b[0m in \u001b[0;36m<module>\u001b[1;34m\u001b[0m\n\u001b[0;32m      1\u001b[0m \u001b[1;31m# lr\u001b[0m\u001b[1;33m\u001b[0m\u001b[1;33m\u001b[0m\u001b[0m\n\u001b[1;32m----> 2\u001b[1;33m \u001b[0mgs\u001b[0m\u001b[1;33m.\u001b[0m\u001b[0mbest_estimator_\u001b[0m\u001b[1;33m.\u001b[0m\u001b[0mpredict\u001b[0m\u001b[1;33m(\u001b[0m\u001b[0mX_test\u001b[0m\u001b[1;33m)\u001b[0m\u001b[1;33m\u001b[0m\u001b[1;33m\u001b[0m\u001b[0m\n\u001b[0m\u001b[0;32m      3\u001b[0m \u001b[0mnp\u001b[0m\u001b[1;33m.\u001b[0m\u001b[0mwhere\u001b[0m\u001b[1;33m(\u001b[0m\u001b[0my_test\u001b[0m \u001b[1;33m!=\u001b[0m \u001b[0mgs\u001b[0m\u001b[1;33m.\u001b[0m\u001b[0mbest_estimator_\u001b[0m\u001b[1;33m.\u001b[0m\u001b[0mpredict\u001b[0m\u001b[1;33m(\u001b[0m\u001b[0mX_test\u001b[0m\u001b[1;33m)\u001b[0m\u001b[1;33m,\u001b[0m\u001b[1;36m1\u001b[0m\u001b[1;33m,\u001b[0m\u001b[1;36m0\u001b[0m\u001b[1;33m)\u001b[0m\u001b[1;33m\u001b[0m\u001b[1;33m\u001b[0m\u001b[0m\n",
      "\u001b[1;31mNameError\u001b[0m: name 'gs' is not defined"
     ]
    }
   ],
   "source": [
    "# lr\n",
    "gs.best_estimator_.predict(X_test)\n",
    "np.where(y_test != gs.best_estimator_.predict(X_test),1,0)"
   ]
  },
  {
   "cell_type": "code",
   "execution_count": 67,
   "id": "e7ae50ea-d826-4751-a4ff-12829a21081b",
   "metadata": {},
   "outputs": [
    {
     "data": {
      "text/plain": [
       "array([0, 0, 0, ..., 0, 0, 1])"
      ]
     },
     "execution_count": 67,
     "metadata": {},
     "output_type": "execute_result"
    }
   ],
   "source": [
    "# knn\n",
    "knn_gs.best_estimator_.predict(X_test)\n",
    "np.where(y_test != knn_gs.best_estimator_.predict(X_test),1,0)"
   ]
  },
  {
   "cell_type": "code",
   "execution_count": 68,
   "id": "09285a50-6822-47f3-913a-5ed39cc6c4b5",
   "metadata": {},
   "outputs": [
    {
     "data": {
      "text/plain": [
       "array([0, 0, 0, ..., 0, 1, 1])"
      ]
     },
     "execution_count": 68,
     "metadata": {},
     "output_type": "execute_result"
    }
   ],
   "source": [
    "# random forest\n",
    "rfc_gs.best_estimator_.predict(X_test)\n",
    "np.where(y_test != rfc_gs.best_estimator_.predict(X_test),1,0)"
   ]
  },
  {
   "cell_type": "code",
   "execution_count": 65,
   "id": "80d7ba06-62ce-4daf-8f49-966343cc71a1",
   "metadata": {},
   "outputs": [
    {
     "data": {
      "text/plain": [
       "array([0, 0, 0, ..., 0, 1, 1])"
      ]
     },
     "execution_count": 65,
     "metadata": {},
     "output_type": "execute_result"
    }
   ],
   "source": [
    "# extra trees\n",
    "etc_gs.best_estimator_.predict(X_test)\n",
    "np.where(y_test != etc_gs.best_estimator_.predict(X_test),1,0)"
   ]
  },
  {
   "cell_type": "code",
   "execution_count": 71,
   "id": "6257dc5d-0448-42db-a0a1-3f5cb0584782",
   "metadata": {},
   "outputs": [],
   "source": [
    "test_predictions = pd.DataFrame(y_test)\n",
    "test_predictions['lr'] = np.where(y_test != gs.best_estimator_.predict(X_test),1,0)\n",
    "test_predictions['knn'] = np.where(y_test != knn_gs.best_estimator_.predict(X_test),1,0)\n",
    "test_predictions['rfc'] = np.where(y_test != rfc_gs.best_estimator_.predict(X_test),1,0)\n",
    "test_predictions['etc'] = np.where(y_test != etc_gs.best_estimator_.predict(X_test),1,0)"
   ]
  },
  {
   "cell_type": "code",
   "execution_count": 87,
   "id": "eb7ed08f-9368-43fb-b8cb-ce45cbe5bcd4",
   "metadata": {},
   "outputs": [
    {
     "data": {
      "text/html": [
       "<div>\n",
       "<style scoped>\n",
       "    .dataframe tbody tr th:only-of-type {\n",
       "        vertical-align: middle;\n",
       "    }\n",
       "\n",
       "    .dataframe tbody tr th {\n",
       "        vertical-align: top;\n",
       "    }\n",
       "\n",
       "    .dataframe thead th {\n",
       "        text-align: right;\n",
       "    }\n",
       "</style>\n",
       "<table border=\"1\" class=\"dataframe\">\n",
       "  <thead>\n",
       "    <tr style=\"text-align: right;\">\n",
       "      <th></th>\n",
       "      <th>subreddit</th>\n",
       "      <th>lr</th>\n",
       "      <th>knn</th>\n",
       "      <th>rfc</th>\n",
       "      <th>etc</th>\n",
       "    </tr>\n",
       "  </thead>\n",
       "  <tbody>\n",
       "    <tr>\n",
       "      <th>3009</th>\n",
       "      <td>LifeProTips</td>\n",
       "      <td>1</td>\n",
       "      <td>0</td>\n",
       "      <td>0</td>\n",
       "      <td>1</td>\n",
       "    </tr>\n",
       "    <tr>\n",
       "      <th>5280</th>\n",
       "      <td>UnethicalLifeProTips</td>\n",
       "      <td>0</td>\n",
       "      <td>1</td>\n",
       "      <td>1</td>\n",
       "      <td>1</td>\n",
       "    </tr>\n",
       "    <tr>\n",
       "      <th>5240</th>\n",
       "      <td>UnethicalLifeProTips</td>\n",
       "      <td>1</td>\n",
       "      <td>1</td>\n",
       "      <td>1</td>\n",
       "      <td>1</td>\n",
       "    </tr>\n",
       "    <tr>\n",
       "      <th>75</th>\n",
       "      <td>LifeProTips</td>\n",
       "      <td>1</td>\n",
       "      <td>1</td>\n",
       "      <td>1</td>\n",
       "      <td>1</td>\n",
       "    </tr>\n",
       "    <tr>\n",
       "      <th>7083</th>\n",
       "      <td>UnethicalLifeProTips</td>\n",
       "      <td>1</td>\n",
       "      <td>1</td>\n",
       "      <td>1</td>\n",
       "      <td>1</td>\n",
       "    </tr>\n",
       "    <tr>\n",
       "      <th>...</th>\n",
       "      <td>...</td>\n",
       "      <td>...</td>\n",
       "      <td>...</td>\n",
       "      <td>...</td>\n",
       "      <td>...</td>\n",
       "    </tr>\n",
       "    <tr>\n",
       "      <th>7345</th>\n",
       "      <td>UnethicalLifeProTips</td>\n",
       "      <td>0</td>\n",
       "      <td>1</td>\n",
       "      <td>1</td>\n",
       "      <td>1</td>\n",
       "    </tr>\n",
       "    <tr>\n",
       "      <th>7163</th>\n",
       "      <td>UnethicalLifeProTips</td>\n",
       "      <td>1</td>\n",
       "      <td>1</td>\n",
       "      <td>1</td>\n",
       "      <td>1</td>\n",
       "    </tr>\n",
       "    <tr>\n",
       "      <th>421</th>\n",
       "      <td>LifeProTips</td>\n",
       "      <td>0</td>\n",
       "      <td>1</td>\n",
       "      <td>1</td>\n",
       "      <td>1</td>\n",
       "    </tr>\n",
       "    <tr>\n",
       "      <th>8306</th>\n",
       "      <td>UnethicalLifeProTips</td>\n",
       "      <td>1</td>\n",
       "      <td>0</td>\n",
       "      <td>1</td>\n",
       "      <td>1</td>\n",
       "    </tr>\n",
       "    <tr>\n",
       "      <th>8650</th>\n",
       "      <td>UnethicalLifeProTips</td>\n",
       "      <td>1</td>\n",
       "      <td>1</td>\n",
       "      <td>1</td>\n",
       "      <td>1</td>\n",
       "    </tr>\n",
       "  </tbody>\n",
       "</table>\n",
       "<p>715 rows × 5 columns</p>\n",
       "</div>"
      ],
      "text/plain": [
       "                 subreddit  lr  knn  rfc  etc\n",
       "3009           LifeProTips   1    0    0    1\n",
       "5280  UnethicalLifeProTips   0    1    1    1\n",
       "5240  UnethicalLifeProTips   1    1    1    1\n",
       "75             LifeProTips   1    1    1    1\n",
       "7083  UnethicalLifeProTips   1    1    1    1\n",
       "...                    ...  ..  ...  ...  ...\n",
       "7345  UnethicalLifeProTips   0    1    1    1\n",
       "7163  UnethicalLifeProTips   1    1    1    1\n",
       "421            LifeProTips   0    1    1    1\n",
       "8306  UnethicalLifeProTips   1    0    1    1\n",
       "8650  UnethicalLifeProTips   1    1    1    1\n",
       "\n",
       "[715 rows x 5 columns]"
      ]
     },
     "execution_count": 87,
     "metadata": {},
     "output_type": "execute_result"
    }
   ],
   "source": [
    "test_predictions[test_predictions[['lr','knn','rfc','etc']].T.sum() != 0]"
   ]
  },
  {
   "cell_type": "code",
   "execution_count": 127,
   "id": "b83ad3ce-7763-4cdc-83b5-f6b35c4c106e",
   "metadata": {},
   "outputs": [],
   "source": [
    "wrong = pd.concat([pd.DataFrame(X_test), test_predictions], axis=1)"
   ]
  },
  {
   "cell_type": "code",
   "execution_count": 99,
   "id": "015d59b4-cd9c-45d1-9123-d2731ca67aa3",
   "metadata": {
    "collapsed": true,
    "jupyter": {
     "outputs_hidden": true
    },
    "tags": []
   },
   "outputs": [
    {
     "data": {
      "text/plain": [
       "[\"ULPT: If you miss an email, ask which email the person sent it to, then just claim you don't check that email\",\n",
       " 'LPT Request: What should I look for when visiting a house or apartment that I am looking to rent?',\n",
       " 'ULPT: If you live with roommates and hate doing chores, only ever do them when everyone is around. That way everyone will see you doing them and will think you’re a good roommate and the rest of the time you can slack off.',\n",
       " 'ULPT: Get softwares for a fraction of the cost by choosing split payments, use a credit card close to expiration or you can afford to close, download the software and disconnect from the internet.',\n",
       " 'ULPT; start unwanted phone conversations by saying your battery is about to die. That way you can hang up suddenly at any moment.',\n",
       " \"ULPT: If you have a family member who is too far right conservative, go into their Facebook settings if you can, and change their political preference to liberal. Eventually, it'll soften up their views.\",\n",
       " \"LPT: Advice on how to deal with woman's advances on my girlfriend\",\n",
       " 'ULPT: Having an outdoor cat is a fantastic early warning system if for homicides.',\n",
       " \"ULPT: Convince others you're a bad liar when making small lies. When you're actually lying, no one will suspect a thing.\",\n",
       " 'ULPT Make friends with people on disability and mooch off them when they receive their monthly check',\n",
       " 'ULPT: If you never need to stab somebody with scissors, Make sure you put your middle finger through the thumb hole and rest the finger grips and your palm. that makes for great holding strength, stability, and feels comfortable.',\n",
       " 'ULPT: not happy with a law your government imposed recently? Find and pay some truckers to block an important bridge in your country.',\n",
       " \"ULPT: Secretly record your conversations with your parents if you want to remember them after they're gone.\",\n",
       " 'ULPT: When shopping at Walmart for higher priced items, snap a pic of the barcode of the lowest-end model to use at the self checkout! Looks so similar usually that even if the AP checks your receipt on the way out, you will 99% of the time get away with it.',\n",
       " \"LPT Help. Struggling to find a job I'm qualified for...\",\n",
       " 'ULPT If you prefer to use the mobile YouTube app vs browser when on your phone, you can skip all ads by sliding to the end of the video then replaying it.',\n",
       " \"ULPT: Want a guaranteed $5 replacement for a specific game controller until the end of time? Walmart's protection plan has you covered (discretely).\",\n",
       " 'ULPT: Spray your food down with bug spray before you take it into a bathroom with a fly problem.',\n",
       " 'ULPT: If you\\'re on a plane and the person in front of you reclines their seat all the way back, don\\'t do the passive-aggressive air jet move. Instead, let out an audible \"oww\" or \"mmph\". They\\'ll feel like a jackass because they\\'ll think they hurt you, and they\\'ll put their seat forward.',\n",
       " 'ULPT: Mturk surveys/let someone do the work and split the profits',\n",
       " 'ULPT: If you\\'re about to be evicted from your storage unit for failure to pay rent and you know that no matter what you\\'re going to lose all your stuff, take a moment and write things like \"19th century samurai swords\" or \"Vintage 1970s G.I. Joe - box 3 of 12\" on the boxes.',\n",
       " 'ULPT: The Definitive Response To Peer Pressure From Your Stoner Friends',\n",
       " 'LPT Request - Complaining',\n",
       " 'ULPT : Dislike videos you watched and liked for YouTube to not spam you with the same videos continuously',\n",
       " 'ULPT: when the male restroom is occupied at a gas station , use the ladies or the disabled room',\n",
       " 'Maybe?',\n",
       " 'ULPT: If someone tries to hold you accountable for something, tell them you went blind temporarily',\n",
       " 'ULPT: Being Unpopular should not be Against The Law',\n",
       " '[LPT REQUEST] How do I get rid of or alleviate shin splints?',\n",
       " 'LPT REQUEST: There’s been a lot of controversy about splitting the bill',\n",
       " 'ULPT: When figuring out your taxes, use an online tax software to do all the calculations for you. Before you pay for the service at the end, you get to review your tax return. Print out the same blank tax forms from the IRS website and copy all the numbers/info over and send it in yourself.',\n",
       " 'LPT Request: Information exchange after an accident',\n",
       " 'ULPT: TP elderly people’s houses on your street. They’re too old to cleanup it up themselves and you can offer to clean it for them for a fee',\n",
       " \"LPT Request: how to have an organized house while being a stay at home mom, caring for a needy newborn that can't walk or eat by themselves yet, pumping exclusively 5x30min a day, and making 3 meals + snacks for the baby\",\n",
       " \"ULPT: If you're sitting in the handicapped seat in public transport and a fat bitch wants your seat, just ask her how far along she is. Most will fuck right off\",\n",
       " 'ULPT FlowLock in virtual machine',\n",
       " \"ULPT: When doing cocaine, make one of your friends do it first. That way you don't die.\",\n",
       " 'ULPT: If you want to boycott an artist, but at the same time you are able to separate art from artist and you still want to enjoy their art, just saying, you can always pirate them :P',\n",
       " 'ULPT: when breaking into a house this holiday season, be sure to twist the lever doorknob up instead of down. The homeowner may have hung a mug on it as a burglar alarm.',\n",
       " 'LPT request: updated info on cross country moves',\n",
       " 'ULPT: if you’re shopping at a thrift store like Value Village and an item is too pricy, take the tag off and ask them to do a price check at the till. The price they come up with is almost always lower since they’re al made up arbitrarily.',\n",
       " 'LPT Request: I would like to improve my communication skills. Any advice?',\n",
       " 'ULPT: Call 911 when police don’t follow due process with arrests',\n",
       " 'LPT: How to remember the spelling of restaurant',\n",
       " 'LPT Request: Looking for advice for using a moving company.',\n",
       " 'ULPT: If you like a track from an amateur or aspiring artist - rip it!',\n",
       " 'LPT request: any tricks or guides to remembering time zone conversion?',\n",
       " 'LPT: how to get vulva/vagina smell off your hands.',\n",
       " 'ULPT: Do you need legal help for small issues but cannot afford a lawyer? Buy a domain that looks like a law firm and CC it in your emails.',\n",
       " 'ULPT- If someone who doesn’t like you calls you out, take heed of what they say. Sometimes the people who respect you the least will also be your best source for honest critique. Learn the lesson they are rudely trying to teach you and grow from it.',\n",
       " 'ULPT: Have friends register their address to google &amp; get you more business exposure',\n",
       " '[LPT Request] Is it to late to fullfill my dream?',\n",
       " 'LPT Help. struggling to find a job in qualified for',\n",
       " 'ULPT: If you see a cute girl you like driving by, bump her car with yours so you can get her contact details',\n",
       " \"ULPT: If you bike or run outdoors and get casually harassed, lie and tell the harasser you're partially deaf. As they yell louder and louder keep saying you still can't hear them. The harasser will either draw attention to themselves from the sheer volume, or they'll get fed up and leave.\",\n",
       " 'ULPT: If financial institutions have to start reporting every transaction of $600 or more, let’s all withdrawal $600 and then deposit it back in the following day. Every. Single. Day.',\n",
       " 'ULPT Always be the one to clear out the work \"storage room\"',\n",
       " \"ULPT- If you want to read the remaining good writers on the New York Times but don't want to be a mouth-breathing lump like Lianna, install the Bypass Paywalls extension and read it without subsidising the people who wish death on JK Rowling.\",\n",
       " 'LPT Request : Confused, Frightened and alone',\n",
       " 'LPT Request: How much is remote work lifestyle worth?',\n",
       " 'LPT get an adblocker',\n",
       " 'LPT Request: company rescinded their job offer after I countered twice. What did I do wrong?',\n",
       " 'ULPTR: Is it any more unsafe than normal to mail weed on 4/20?',\n",
       " 'ULPT: Engrave \"GOOGLE JURY NULLIFICATION\" on your gun before you commit crimes with it. You can never be found guilty.',\n",
       " 'ULPT use a data-only SIM card along with a VoIP service (e.g., Google Voice), instead of a full cellular plan, and pay only a fraction of the cost.',\n",
       " '[LPT Request] What phrases should one never use against their parents?',\n",
       " 'LPT Request: Does any other girl hate taking off a wet bathing suit or bikini??',\n",
       " 'LPT Request: How to stop ceiling fans from making that knocking sound.',\n",
       " 'ULPT: Did you receive an Amazon package today? If you did, start a customer service chat and tell the bot the item never came. Amazon had a massive nationwide outage today, and many packages were either delayed or delivered with virtually zero information/proof. Cc',\n",
       " \"ULPT: don't recommend your fav business to others too much. you could get overlooked once they get too much work.\",\n",
       " 'LPT: If you’re stuck on a call you don’t want to be on, hang up while YOU are talking. No one will ever think you hung up on yourself.',\n",
       " 'LPT request: Is there a way to cancel predatory gym memberships. The ones that charge a cancellation fee or say you need to cancel 60days in advance.',\n",
       " 'LPT Request: Best ways to clean blue light computer glasses',\n",
       " 'ULPT: AppleCare+ Loss &amp; Theft.. Potential',\n",
       " 'ULPT: Dear Ukrainians!',\n",
       " 'LPT Request: Is there a way to stretch my shorts without destroying them?',\n",
       " \"LPT request : Can't get the soapy smell out of my water bottle\",\n",
       " 'ULPT: Answer the phone and pretend to be someone else to avoid some unwanted calls',\n",
       " 'ULPT: YouTube',\n",
       " 'ULPT: Airdrop',\n",
       " 'LPT How to debunk the conspiracy theories around the Megalodon.',\n",
       " 'ULPT: Have a hot date coming over but no time or energy to clean your bathroom properly?',\n",
       " 'ULPT: if you know you’re going to get fired soon, come out as trans. The company will not fire you for fear of the backlash of firing you shortly after you come out as trans. And they also don’t want to have to fight the lawsuit if they did fire you.',\n",
       " 'ULPT When dating, be sure to subtly ask every question on those medical questionnaires, to screen your potential partner for genetic defects and risk factors',\n",
       " 'ULPT: If you go on Fox News to promote your side hustle',\n",
       " 'ULPT: If you have a young child and funds are tight, regift them their favorite toy.',\n",
       " 'ULPT: Never know what to write in birthday/anniversary/sympathy cards? Take a picture of a card with a nice message, then buy another card and copy it into that one',\n",
       " 'LPT: A lot of people whisper way too loud. Here’s how to actually whisper.',\n",
       " 'ULPT: How do I use the bible to manipulate a friend to build a better life for her and her child.',\n",
       " 'ULPT: Want to force a decision? Try turning on the AC and a cup of water.',\n",
       " \"LPT request: the cuffs of my pants are fraying. How can I prevent this and what's the best way to mend them?\",\n",
       " \"ULPT- You can just start saying that you are transsexual, and be part of a protected minority- it requires zero changes to your everyday life. This now also includes college / job acceptance and government grants... nobody will dare call you out for fear of being 'canceled' themselves.\",\n",
       " 'ULPT Memories: Made-up coupons',\n",
       " 'ULPT: April Fools is coming up, while you shouldn\\'t believe anything anyone says to you, don\\'t respond with \"are you serious?\" or \"I don\\'t believe you\", take it at 100% face value and act on it which will make them look stupid.',\n",
       " 'ULPT: Wan\\'t to almost always win a coin toss decision? Be the first to offer flipping a coin for whatever it is but say: \"Flip for choice? Head\\'s I win, tails you lose. Then flip the coin and announce the outcome using the same phrasing.',\n",
       " 'ULPT: If you need to pretend you are sleeping, make subtle body twitches (eyebrow, thumb, fingers grasping, etc) to make it much more believable. Also most people sleep with their mouth open.',\n",
       " 'ULPT: Practice your vomit reflex until you can vomit on command just by thinking about it',\n",
       " 'ULPT When smuggling drugs through an airport, conceal them inside tenis balls. This way when the dog sniffs the drugs, guards will just assume that the dog smelled the tenis balls.',\n",
       " 'ULPT- If you want to break up with someone your serious with ask to meet their parents. During the meet mention the house seems familiar, then act surprised and claim you slept with the mother or father before meeting your SO.',\n",
       " 'ULPT: Want the most gentle dental cleaning of your life? Tell your hygienist that you are on blood thinners.',\n",
       " 'ULPT: If you go to France and you feel like someone is reluctant to speak English with you out of spite, ask them if they know German and watch them immediately become fluent in English.',\n",
       " \"LPT REQUEST: My palms and fingers are extremely sweaty 24/7, don't know how to stop it\",\n",
       " 'ULPT: If you are going to kill yourself, dont do it at home',\n",
       " 'ULPT: If you’re ever in the position of paying for dinner and having others Venmo you, tell them to send you an extra few bucks for a tip, and then don’t leave one.',\n",
       " 'ULPT: Want your commercial to be seen by millions of people for free? Put it on YouTube with the title \"The commercial the Superbowl refused to run.\"',\n",
       " 'ULPT Hook up with attractive people by pretending to be an Aura reader',\n",
       " \"ULPT: Got a tailgater? Use your car's window cleaner.\",\n",
       " 'ULPT: When someone leaves their shopping cart in the middle of the aisle, swipe something from it and get rid of it later.',\n",
       " 'ULPT: When Car Warranty SPAM calls come in, say your car is a 1970s or 1980s car',\n",
       " \"LPT Request: How do I convince my mom that you don't need a college degree to get a job?\",\n",
       " 'LPT Request: How can I work two jobs remotely and attend meetings at the same time?',\n",
       " \"ULPT : When on the bus you're asked for your seat by an elderly person or a pregnant woman, tell them you feel dizzy and unwell and you can keep sitting\",\n",
       " 'ULPT when you get a new computer:',\n",
       " 'ULPT: When spamming a government tip line or comment box for activist purposes, don’t copy paste pre-form letters because these can be filtered out by bots. Instead use a random text generator, or a meaningless article.',\n",
       " 'LPT: dealing with burns',\n",
       " \"LPT Request: How do I forget my friend's dead name ?\",\n",
       " 'ULPT: It’s not a war crime if you win.',\n",
       " 'LPT Request: What is something I can listen to at work that is educational?',\n",
       " 'LPT Request: How to change ip adress country location on android phone to access website that is available only in that specific country without paying for vpn apps?',\n",
       " 'ULPT retirement health reimbursement',\n",
       " 'ULPT: not sure if this is the right place but need a little advice',\n",
       " 'LPT Request: What should a first-time car owner know? Car upkeep/day to day stuff/etc',\n",
       " 'LPT : Keep a To Do List for fun stuff too.',\n",
       " 'ULPT: Have a landlord that is delaying making an important repair? Call the property management office pretending to be a reporter from the local news station and ask about why the problem is taking so long to be resolved.',\n",
       " \"ULPT: Learn ASL and preeend you're mute to queue on priority lane\",\n",
       " 'ULPT: Googling \"best places to hide a house key\" will show you exactly where most idiots will hide their keys. Enjoy your break-ins.',\n",
       " 'ULPT: If there is something stuck in your teeth while out in public, use a piece of your hair to quickly get it out.',\n",
       " 'LPT REQUEST: How to avoid sharing address',\n",
       " 'ULPT if you drop your phone in water',\n",
       " 'ULPT , want to change your life',\n",
       " 'LPT Request: How can I make money through my PC/smartphone?',\n",
       " 'ULPT: Get in the habit of saying \"recall\" instead of \"remember\". If you\\'re implicated in something fishy, the statement \"I don\\'t recall that\" won\\'t sound fishy to those who know you.',\n",
       " 'LPT request: Cashed out stocks. Have perfectly accurate account and routing information. Funds “vanished”. Equateplus is doing nothing about it.',\n",
       " \"[LPT Request] Fall Semester is over, Spring is beginning, what's the best way to get the most cash for my old textbooks?\",\n",
       " \"ULPT: Surgery patients in UK - If your nurse tries to discharge you without giving you a sick note - Don't sign your discharge papers. It is the hospital staff's responsibility to issue one,and your GP can simply refuse.\",\n",
       " 'ULPT Leadership Certificates',\n",
       " 'ULPT: If you win a fight after someone assaults you, rub salt in the wound by calling them an ambulance and sticking them with a bill.',\n",
       " 'ULPT: there’s a difference between « education » and « level of education » in your resume',\n",
       " 'LPT Request, what to look for when buying 2nd hand laptops',\n",
       " 'Welcome to Day 2 of Place',\n",
       " \"LPT: I'm sorry for doing this but could someone vem no me some money, I have no where to go and not allowed back at shelter no more. I just need it for work tomorrow\",\n",
       " 'ULPT: Buy a wheelchair and you’ll always have a seat at a movie premiere',\n",
       " \"ULPT: If you need to crank out some writing fast, there's a simple hack to get a robot to do it for you.\",\n",
       " 'ULPT: Make friends with as many wealthy, elderly people as possible, particularly those without children. You never know whose will you could end up being apart of.',\n",
       " 'ULPT: kitchen full of dirty dishes? Cook your roommate, partner, or friend a quick dinner. They’ll be compelled by manners to clean up.',\n",
       " 'LPT Request: Car insurance tips. What to get, where to get it?',\n",
       " 'ULPT: If you ever rob a bank, make sure to hold your middle finger in front of you the whole time so the news has to blur your face in the security footage.',\n",
       " 'How to look like a different person at parties?',\n",
       " 'LPT request: Any advice for 12-year-olds on how to make money?',\n",
       " 'ULPT: Sunglasses are pretty good for seeing in the sun. But their best feature is getting away with ogling.',\n",
       " 'ULPT You don’t like a life decision somebody made?',\n",
       " 'LPT request: Friendly or into you',\n",
       " '[LPT Request] how/where to buy discounted AppStore credits/gift cards?',\n",
       " \"ULPT If you need to lose weight fast, like for a beach vacation, eat some raw chicken. The salmonella and diarrea will knock off 10 lbs in a week! And you'll be ready to eat street tacos in Mexico!\",\n",
       " 'ULPT: if you buy a big tv for black friday, put the box in front of your neighbors house when its time for recycling',\n",
       " 'ULPT: Never know what to write in birthday/anniversary/sympathy cards? Find a card with a nice message and take a picture of it. Then buy another card and rewrite it into that one',\n",
       " 'ULPT Teen Pregnancy',\n",
       " \"ULPT: Medical workers, if you're tired of the overtime, put in notation saying you are only available 40 hours a week, and don't work longer than you want. They are understaffed, your job is secure.\",\n",
       " 'ULPT: Before leaving on vacation, take a photo of your own knob in the on position.',\n",
       " 'ULPT: If your work requires answering the phone and hold times are tracked, use mute instead of the hold button.',\n",
       " 'ULPT: Put your visor down if you’re not going to make it through a yellow traffic light.',\n",
       " 'ULPT: Forgot to study for your midterm exam? Arrive early to class and post a note on the room door: \"Class Cancelled: Meeting in Progress\"',\n",
       " 'ULPT: If your work laptop goes to screensaver after a period of inactivity, loop a video in Windows Media Player.',\n",
       " 'LPT Request. Is there any spray like pepper spray? instead of making us cough it will make us nausea and dizzy for short time.',\n",
       " 'LPT Request: I know which company sold my phone number to telemarketers. Is there anything that I can do?',\n",
       " 'ULPT - if your car keeps getting fuel stolen out of it, if it dies fill it up with diesel or sugar water and leave the gas door ajar for a week or two. Merry Christmas.',\n",
       " \"ULPT: Buy one BJ's or Sam's Club membership and share it with your whole family. Both have apps that let you scan a barcode. No one checks your name or who you are.\",\n",
       " 'ULPT. If you just HAVE to drive to Canada and can’t because of the border blockage, you can drive across the ice road on Lake Of The Woods in MN.',\n",
       " 'ULPT Worried about home security, but can\\'t afford to do anything about it? Put up an ADT or similar sign on your front yard, or the window. The average criminal is a lazy, superstitious and cowardly lot. They\\'ll rob your neighbor, who does not have ADT \"protection\" instead.',\n",
       " 'ULPT: Become close friends with nice old rich people who have no children or any legal heirs. You would have a great chance of inheriting all their fortune.',\n",
       " 'ULPT: We can all stop rape, if you just say \"Yes\".',\n",
       " \"ULPT: If people aren't giving you enough space, start sniffling\",\n",
       " 'ULPT: this holiday season, when you receive a gift that came from a large company, email the company customer support explaining that a component was missing. They will likely send you a replacement or discount/ voucher.',\n",
       " \"ULPT: Keep a spare wallet on you with conterfeit bills if you're in an area with frequent muggings.\",\n",
       " 'LPT Request crying babies upstairs',\n",
       " 'ULPT: permanent WFH',\n",
       " 'LPT Request: How to make about $100 every month working from home?',\n",
       " 'LPT Request: Where can I go to meet new people?',\n",
       " 'LPT Request: how to move a floppy/heavy queen size mattress?',\n",
       " 'LPT request: Should I just accept the pace of my life as is or try to speed it up?',\n",
       " 'LPT How does one become comfortable with being single?',\n",
       " 'ULPT: On dating sites claim to be in an open relationship. Then if you end up meeting someone ok with this, tell them the relationship ended a while into dating them. Ask if you can keep the relationship with them open.',\n",
       " 'ULPT Use a data-only SIM card along with VoIP service (e.g., Google Voice) instead of a full cellular service plan for a fraction of the price',\n",
       " 'ULPT: I think I’ve solved the housing crisis',\n",
       " 'ULPT: All the solutions to Wordle are hard-coded in the website, through 2027',\n",
       " \"ULPT You didn't commit a crime; unless proven otherwise.\",\n",
       " \"ULPT: most home warranties won't vet the source/purchase of your appliances. If one were so inclined, they could use a warranty to flip old used appliances.\",\n",
       " 'LPT Request what is a good food item to keep in your car (probably trunk) for emergencies?',\n",
       " 'ULPT: Just an observation. The people here are much nicer than those at the supposed ethical LPT.',\n",
       " 'LPT Request-: How to master the art of reading research papers?',\n",
       " 'LPT request. Bad dreams and sleep paralysis. Why?',\n",
       " 'LPT Request: How to avoid being burned out at work?',\n",
       " 'ULPT: Are you thinking about getting a breast reduction?',\n",
       " \"LPT Request: It's impossible for me to sleep on my back, any help?\",\n",
       " \"ULPT: Kick your feet up on the seat in front of you when you fly. They can't recline it on your knees.\",\n",
       " 'LPT request: hands free loud whistle',\n",
       " \"ULPT: Fill gaps in your resume's employment history with 'volunteer farmwork' or WWOOF. Makes you seem interesting and no one ever questions it.\",\n",
       " 'ULPT: If you suddenly find yourself under a new totalitarian regime, start a flag making company',\n",
       " \"ULPT: add a blank character at the beginning of your contact name to make it appear at the top of others' contact lists.\",\n",
       " 'lpt request: How do I formulate what I want to do out of Highschool?',\n",
       " 'ULPT: Grabbing a full shopping cart in the last isle when the user isnt looking not only saves you time, but allows you to try new things.',\n",
       " 'ULPT: If someone is driving slow in the passing lane, call 911 and report that the driver is drunk',\n",
       " 'ULPT: Use long or “never ending” YouTube videos to appear as active on chat software if working from home even if you step away.',\n",
       " 'ULPT: Aside from greatly improving your pay, job hopping every 2-3 years allows you to slack off. Most bigger companies have so much bureaucracy that it takes that much time to weed out the lazy employees.',\n",
       " 'LPT - How to turn a Word doc into a one-pager bootstrap website',\n",
       " \"ULPT: Suddenly seeing posts and sub reddits in your home feed you're not subscribed to (and hate it)? Send a message by reporting as spam -&gt; Unsolicited Messaging!\",\n",
       " 'ULPT Stop your car one car length behind the white line at red lights with a left turn arrow (United States)',\n",
       " 'LPT Request - What is your best natural way to deal with period cramps?',\n",
       " 'ULPTworks everytime',\n",
       " 'ULPT: Open a glass repair shop. Buy every kid in town a baseball and bat for Christmas.',\n",
       " 'ULPT: If you start a new job, come in drunk or drugged up the first week. When you then sober up, people will notice you working better and faster, and consequently think you are a fadt learner and smart guy.',\n",
       " 'ULPT: \"Pay\" yourself on CashApp or Apple Cash with a debit card to earn free rewards',\n",
       " 'ULPT: If you really hate someone, wash a load of rice down their sink',\n",
       " 'ULPT: If a cop is chasing you down, go fast enough til they get right up behind you, then slam on your breaks. They will hit the back of your car and you can press charges.',\n",
       " 'ULPT: If you are a young woman and your country is being invaded, seduce the enemy and bring them into the woods where they can be easily dispatched. This tactic was used in WWII to great effect.',\n",
       " \"ULPT: If a prospective employer asks if you're currently interviewing with other companies, always say yes even if it's not true, and think of at least three big companies in that field in case you're asked to name them. Employers are more likely to extend you an offer if there is perceived urgency.\",\n",
       " \"ULPT If you're doing something wrong, make sure you're doing something wrong with confidence. You're less likely to get in trouble, or even get noticed, if people think you're doing the right thing.\",\n",
       " 'ULPT: When ordering food, tell your waitress or cashier that you’re a foodie who posts all meals on social media and tags the restaurant’s social media pages for better portions and presentation.',\n",
       " 'ULPT: School deadline coming up and got nothing to submit? Submit a corrupt file to gain yourself some more time!',\n",
       " 'ULPT: If someone is asking you for data - it means they don’t have it. So you can safely make it all up.',\n",
       " \"ULPT: It's impossible to lie about something if anything can happen in a parallel universe, especially if the accuser doesn't specifically ask which universe the thing happened in.\",\n",
       " 'LPT Request: Parents double/quadruple parking at drop off hours, blocking me, and others from passing on to my home.',\n",
       " 'ULPT: If a warranty won’t be processed until you show proof of cutting the power cord, look at the warranty terms “Labor and parts”. If labor is included, you may not have to cut the cord.',\n",
       " 'ULPT: This is prob not even unethical but if you were at astroworld at all you should sue for endangering your life and being traumatic.',\n",
       " \"ULPT: If you're on a phone interview (no video), keep typing on your keyboard throughout it. Someone will ask what the noise is, so you can plea ignorance. That way you can Google answers to hard questions without getting caught.\",\n",
       " 'ULPT: some subreddits block image uploads by the title of the jpg (such as including the term \"screenshot\") but you can bypass this by changing the name of the jpg',\n",
       " 'ULPT: Always check any newsletter \"loyalty\" bonuses (coupons, gift certs, etc) to see if the bonuses are a you-specific code or session-generated.',\n",
       " \"ULPT : Before you ever get your bag stolen, fill it up with extremely disturbing (but legal) material. Put unsightly things, images, and writings in every single pocket and you'll never have to fear being stripped of (most of) your belongings ever again.\",\n",
       " 'ULPT: If a pesky security guard is following you for no reason, redirect their attention.',\n",
       " 'ULPT: What would you do if you were the only one to know about a rapist ?',\n",
       " 'ULPT: If you own a household item that you cannot afford to get repaired keep it in your car. If you are ever in an accident that isn’t your fault you can claim it broke during the collision and get the repair paid for in the insurance claim.',\n",
       " 'ULPT: If you work at Amazon, even if you are not pro-union, consider claiming to be pro-union to your supervisor. Amazon is under a lot of pressure for retaliating against people who are pro-union and has had to payout and do settlements.',\n",
       " 'ULPT: Jock Jerk Problem Scientology Solution',\n",
       " 'ULPT False positive',\n",
       " 'Great way to really make a point with plausible deniability that you thought it was harmless',\n",
       " 'ULPT: Massaging your diaphragm while drinking water helps hiccups',\n",
       " 'ULPT hack for meeting up with people far away',\n",
       " 'LPT Request: Getting the most out of a salaried position.',\n",
       " 'ULPT: Easy weight loss tip, Smoke weed before every meal and eventually you’ll restrict your appetite.',\n",
       " \"ULPT: Need help moving? Go to a couple NA/AA meetings and mention you need the help. You will get a whole group of people really easily, and the best part is you don't even have to buy beer afterwards!\",\n",
       " 'ULPT Rrquest : remove sharpie from stainless steel water bottle',\n",
       " 'LPT I need furniture in my house. Is there anywhere I can go to get decent quality couch that will be shipped right away?',\n",
       " \"ULPT - Switching Firms/Jobs? Tell them you're expecting a (make belief) bonus from the old firm and see if they will match.\",\n",
       " \"ULPT: Always wait till right after your girlfriend's period to break up with her so you can be certain she's not pregnant.\",\n",
       " 'ULPT: Send your citizens to another country for immigration. If they resist, threaten to shut off their energy sources (e.g. natural gas)',\n",
       " 'LPT Request: Any tricks for snagging flights for cheap? (Europe)',\n",
       " \"ULPT: If you have a lot of blog content to write, you can use a paraphrasing tool, such as the one I've linked to. Just make sure not to overly paraphrase the keywords you want to rank for.\",\n",
       " \"ULPT Ask for military discounts anywhere you shop. Some companies don't even verify.\",\n",
       " 'LPT request: how to quickly get rid of that hangover nausea',\n",
       " \"ULPT: Get all your groceries at the food pantry. They don't check anything.\",\n",
       " \"ULPT if you are fed up with a surgical waiting room filled with people doing business on cell phones and discussing family issues, head for the chapel. No one is ever there, you can keep the lights dim, it's quiet and you can nap on the pews.\",\n",
       " 'ULPT: If you get pulled over for speeding, pretend you forgot your insurance card. You’ll get a ticket for not having insurance instead and then all you have to do is mail in a copy of your insurance card and the whole thing goes away - no fine or anything.',\n",
       " 'ULPT: If you want to be somewhere at night that would look suspicious, wear jogging clothes. No one will question someone running the streets at night in jogging clothes.',\n",
       " 'LPT Request: My country is headed for economic collapse. What can a 27 year old with no savings do to survive?',\n",
       " 'ULPT: If Congress ever passes reoperations and you have 1st or 2nd generation African Ancestry make sure you STFU and pretend like your family has been here since the 1800s',\n",
       " \"LPT Request: I think I'm depressed and if I am I may have inherited it.\",\n",
       " 'ULPT Refunding knife',\n",
       " 'LPT Request: Can you iron a dress shirt on a higher setting than the label says?',\n",
       " 'LPT Request: How to be articulate and well spoken',\n",
       " 'LPT REQUEST: What’s the best non-toxic way to keep wasps away?',\n",
       " \"ULPT: If purchasing digital goods online, change your zip code to a state that doesn't have sales tax [US]\",\n",
       " 'LPT Request: Where can I hire a mover for cheap and how?',\n",
       " 'ULPT want to eat better food at the restaurant? bring a pen and notebook',\n",
       " 'ULPT: When shopping for groceries, always grab stuff that is further in on the shelves.',\n",
       " 'ULPT: put a nicotine patch on a girl while having sex with her. She will be addicted to you.',\n",
       " 'ULPT: If your internet is being restricted by parental control systems or a time limit, simply download a MAC address changer and change your MAC address, you will now be able to buypass it.',\n",
       " 'ULPT: If you want to bump yourself from economy to business while flying solo, spill your drink on yourself, blame the passenger next to you and tell on them to the cabin crew.',\n",
       " 'ULPT: When you must insult a young child, say really childish things so that it sounds made up when they inevitably tell.',\n",
       " \"ULPT: If a meeting is getting too boring, stand up and walk out *quickly* while staring at your phone. Nobody will stop you, and you'll have time to think of a decent excuse before you're interrogated.\",\n",
       " 'ULPT: Make a bet you can’t lose. Climate change',\n",
       " 'ULPT: If you need to change up your writing fast to get around turn-it-in, Rephrasely is an AI that will rewrite your sentences in up to 50 different ways.']"
      ]
     },
     "execution_count": 99,
     "metadata": {},
     "output_type": "execute_result"
    }
   ],
   "source": [
    "list(wrong[wrong[['lr','knn','rfc','etc']].T.sum() ==4]['title'])"
   ]
  },
  {
   "cell_type": "code",
   "execution_count": 143,
   "id": "19598ee7-c15a-4b81-89a4-5b393d80ca56",
   "metadata": {},
   "outputs": [
    {
     "data": {
      "text/plain": [
       "779"
      ]
     },
     "execution_count": 143,
     "metadata": {},
     "output_type": "execute_result"
    }
   ],
   "source": [
    "pd.DataFrame(X_test_cv.A, columns=cv.get_feature_names_out())['request'].sum()"
   ]
  },
  {
   "cell_type": "code",
   "execution_count": 133,
   "id": "7453fefa-5478-4c9a-bda7-d4bc1fce9354",
   "metadata": {},
   "outputs": [],
   "source": [
    "request_check = cv.transform(wrong['title'])"
   ]
  },
  {
   "cell_type": "code",
   "execution_count": 134,
   "id": "659e5967-cb2b-41bb-88f3-36ffbc990fb4",
   "metadata": {},
   "outputs": [],
   "source": [
    "request_check = pd.DataFrame(request_check.A, columns=cv.get_feature_names_out())"
   ]
  },
  {
   "cell_type": "code",
   "execution_count": 154,
   "id": "cc9674c6-ceaf-42c6-855a-bed8a57635e5",
   "metadata": {},
   "outputs": [
    {
     "data": {
      "text/plain": [
       "(709, 6)"
      ]
     },
     "execution_count": 154,
     "metadata": {},
     "output_type": "execute_result"
    }
   ],
   "source": [
    "this = wrong[(wrong['title'].str.contains('request')) | (wrong['title'].str.contains('Request'))]\n",
    "this.shape"
   ]
  },
  {
   "cell_type": "code",
   "execution_count": 155,
   "id": "d910ba65-719e-4a8d-b530-f37298829dfd",
   "metadata": {},
   "outputs": [
    {
     "data": {
      "text/plain": [
       "(95, 6)"
      ]
     },
     "execution_count": 155,
     "metadata": {},
     "output_type": "execute_result"
    }
   ],
   "source": [
    "this[this[['lr','knn','rfc','etc']].T.sum() != 0].shape"
   ]
  },
  {
   "cell_type": "code",
   "execution_count": null,
   "id": "3d46e1bc-f0ce-46ec-bfe0-4b89587519fd",
   "metadata": {},
   "outputs": [],
   "source": []
  },
  {
   "cell_type": "code",
   "execution_count": null,
   "id": "23d9d1dc-cee7-4c3c-a44e-f10749fd15d1",
   "metadata": {},
   "outputs": [],
   "source": []
  },
  {
   "cell_type": "code",
   "execution_count": 1,
   "id": "518c56a3-d8ce-490c-a4c1-8152b76af510",
   "metadata": {},
   "outputs": [],
   "source": [
    "# adding additonal models to results.csv that were calculated at different times"
   ]
  },
  {
   "cell_type": "code",
   "execution_count": 3,
   "id": "c243207b-cf93-4eb1-abe3-5646fe6944ed",
   "metadata": {},
   "outputs": [],
   "source": [
    "temp = pd.read_csv('./data/results.csv')"
   ]
  },
  {
   "cell_type": "code",
   "execution_count": 159,
   "id": "ef978b7b-cd70-4fad-a6bf-581ecac1113b",
   "metadata": {},
   "outputs": [],
   "source": [
    "results = pd.concat([temp, results],ignore_index=True)"
   ]
  },
  {
   "cell_type": "code",
   "execution_count": 160,
   "id": "716c09a4-464a-4204-a2fe-172b333c06d3",
   "metadata": {},
   "outputs": [],
   "source": [
    "results.to_csv('./data/results.csv',index=False)"
   ]
  },
  {
   "cell_type": "code",
   "execution_count": 4,
   "id": "2a2d58b6-0da8-4a7e-a697-cf92694dba47",
   "metadata": {},
   "outputs": [],
   "source": [
    "temp = pd.read_csv('./data/scatter results.csv')"
   ]
  },
  {
   "cell_type": "code",
   "execution_count": null,
   "id": "b1508465-5208-409d-a859-dd00d440a1f6",
   "metadata": {},
   "outputs": [],
   "source": []
  },
  {
   "cell_type": "code",
   "execution_count": 22,
   "id": "f3f2de5c-ef4e-4da4-9d5d-6eeec9d18eba",
   "metadata": {
    "tags": []
   },
   "outputs": [
    {
     "data": {
      "text/plain": [
       "<AxesSubplot:title={'center':'Models and Their Accuracies'}, xlabel='model', ylabel='accuracy'>"
      ]
     },
     "execution_count": 22,
     "metadata": {},
     "output_type": "execute_result"
    },
    {
     "data": {
      "image/png": "[encoded data removed]",
      "text/plain": [
       "<Figure size 720x720 with 1 Axes>"
      ]
     },
     "metadata": {
      "needs_background": "light"
     },
     "output_type": "display_data"
    }
   ],
   "source": [
    "plt.figure(figsize=(10,10))\n",
    "plt.title('Models and Their Accuracies')\n",
    "sns.barplot(x=temp['model'], y=temp['accuracy'], hue=temp['model'], dodge=False)"
   ]
  },
  {
   "cell_type": "code",
   "execution_count": 17,
   "id": "f96b9066-34ad-4878-92d9-82b2c27ea857",
   "metadata": {},
   "outputs": [],
   "source": [
    "temp = temp.append({'accuracy': 0.503451,\n",
    "                'model': 'majority class'}, ignore_index=True)"
   ]
  },
  {
   "cell_type": "code",
   "execution_count": null,
   "id": "8937c426-b477-4d7c-9bca-62c57614cff5",
   "metadata": {},
   "outputs": [],
   "source": []
  }
 ],
 "metadata": {
  "kernelspec": {
   "display_name": "Python 3 (ipykernel)",
   "language": "python",
   "name": "python3"
  },
  "language_info": {
   "codemirror_mode": {
    "name": "ipython",
    "version": 3
   },
   "file_extension": ".py",
   "mimetype": "text/x-python",
   "name": "python",
   "nbconvert_exporter": "python",
   "pygments_lexer": "ipython3",
   "version": "3.9.7"
  }
 },
 "nbformat": 4,
 "nbformat_minor": 5
}
